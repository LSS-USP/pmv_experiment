{
 "cells": [
  {
   "cell_type": "markdown",
   "metadata": {},
   "source": [
    "# Atuação em simulações de trânsito baseado na detecção de anomalias em trechos de vias\n",
    "\n",
    "Apresentaremos nossas análises a respeito do experimento de \"Atuação em simulações de trânsito baseado na detecção de anomalias em trechos de vias\". Inicialmente realizamos uma validação dos modelos com um escopo reduzido e em seguida executamos simulações e análises com cenários de maior magnitude."
   ]
  },
  {
   "cell_type": "code",
   "execution_count": 1,
   "metadata": {
    "hide_input": false
   },
   "outputs": [],
   "source": [
    "import pandas as pd\n",
    "import matplotlib.pyplot as plt\n",
    "import seaborn as sns; sns.set(color_codes=True)\n",
    "import numpy as np\n",
    "from matplotlib import rc\n",
    "COLUMNS = [\"hour\", \"minute\", \"last_tick\", \"type\", \"trip_id\", \"last_link\", \"duration\", \"distance\"]"
   ]
  },
  {
   "cell_type": "markdown",
   "metadata": {},
   "source": [
    "### Campos dos conjuntos de dados\n",
    "\n",
    "Durante o relatório faremos análise a partir dos conjuntos de dados de **trechos percorridos por veículos** durante as simulações. Esses arquivos estão em formato `csv` e contém os seguintes campos:\n",
    "\n",
    "- **hour**: Em que hora começamos a executar aquela simulação                                                                                      \n",
    "                                                                                                                                          \n",
    "- **minute**: Em que minuto começamos a executar aquela simulação                                                                              \n",
    "                                                                                                                                          \n",
    "- **last_tick**: O último tick de simulação daquela viagem                                                                                                                           \n",
    "                                                                                                                                          \n",
    "- **type**: O tipo do dado no arquivo `.csv` (todas serão do tipo **arrival**)                                                                                                                            \n",
    "                                                                                                                                          \n",
    "- **trip_id**: O identificador daquela viagem                                                                                            \n",
    "                                                                                                                                          \n",
    "- **last_link**: A última aresta do grafo por onde aquela viagem passou (permite encontrar o destino final de uma viagem)                                                                                 \n",
    "                                                                                                                                          \n",
    "- **duration**: A duração total de uma viagem (ou seja, podemos inferir o início de uma viagem combinando a duração e o primeiro tick)                                                                                  \n",
    "                                                                                                                                          \n",
    "- **distance**: A distância total percorrida durante uma viagem\n",
    "\n",
    "Os conjuntos de dados utilizados foram os seguintes:\n",
    "- [Conjuntos de dados de validação](https://github.com/LSS-USP/pmv_experiment/tree/master/validation/datasets)\n",
    "- [Conjuntos de dados de maior magnitude](https://github.com/LSS-USP/pmv_experiment/tree/master/city_scale/datasets)"
   ]
  },
  {
   "cell_type": "markdown",
   "metadata": {},
   "source": [
    "# Validação do modelo de simulação\n",
    "\n",
    "Inicialmente validamos o modelo de simulação de eventos de trânsito (e utilização de PMVs - Placas de Mensagem Variada) implementada no **InterSCSimulator**. Para isso utilizamos um contexto controlado, composto de um grafo simples e um número reduzido de viagens.\n",
    "\n",
    "Executamos três cenários para a validação:\n",
    "\n",
    "- Sem evento de fechamento de rua;\n",
    "\n",
    "- Com um evento de fechamento de rua mas sem o auxílio de PMVs;\n",
    "\n",
    "- Com um evento de fechamento de rua e auxílio de PMVs.\n",
    "\n",
    "Executamos vinte (20) simulações de 10 minutos para cada cenário, resultando em três conjuntos de dados (um por cenário) que continham a saída de todas essas rodadas de simulação. Ao final realizamos análises encima desses conjuntos de dados."
   ]
  },
  {
   "cell_type": "markdown",
   "metadata": {},
   "source": [
    "## Entrada do Cenário de Validação\n",
    "\n",
    "A seguir descreveremos as duas entradas da simulação: a descrição do mapa da cidade e a lista de viagens.\n",
    "\n",
    "### Mapa da Cidade\n",
    "\n",
    "Utilizamos o grafo abaixo como mapa da cidade nos três cenários, composto de  8 vértices e 16 arestas. O grafo é apresentado como não-direcionado, mas na verdade é um grafo direcionado onde todos os vértices apresentados têm ida e volta:"
   ]
  },
  {
   "cell_type": "code",
   "execution_count": 2,
   "metadata": {
    "hide_input": true
   },
   "outputs": [
    {
     "data": {
      "image/svg+xml": [
       "<?xml version=\"1.0\" encoding=\"UTF-8\" standalone=\"no\"?>\n",
       "<!DOCTYPE svg PUBLIC \"-//W3C//DTD SVG 1.1//EN\"\n",
       " \"http://www.w3.org/Graphics/SVG/1.1/DTD/svg11.dtd\">\n",
       "<!-- Generated by graphviz version 2.40.1 (20161225.0304)\n",
       " -->\n",
       "<!-- Title: G Pages: 1 -->\n",
       "<svg width=\"542pt\" height=\"98pt\"\n",
       " viewBox=\"0.00 0.00 542.00 98.00\" xmlns=\"http://www.w3.org/2000/svg\" xmlns:xlink=\"http://www.w3.org/1999/xlink\">\n",
       "<g id=\"graph0\" class=\"graph\" transform=\"scale(1 1) rotate(0) translate(4 94)\">\n",
       "<title>G</title>\n",
       "<polygon fill=\"#ffffff\" stroke=\"transparent\" points=\"-4,4 -4,-94 538,-94 538,4 -4,4\"/>\n",
       "<!-- 1 -->\n",
       "<g id=\"node1\" class=\"node\">\n",
       "<title>1</title>\n",
       "<ellipse fill=\"#d3d3d3\" stroke=\"#000000\" stroke-width=\"2\" cx=\"32.5\" cy=\"-45\" rx=\"32.5\" ry=\"32.5\"/>\n",
       "<text text-anchor=\"middle\" x=\"32.5\" y=\"-41.3\" font-family=\"verdana\" font-size=\"14.00\" fill=\"#000000\">1</text>\n",
       "</g>\n",
       "<!-- 2 -->\n",
       "<g id=\"node2\" class=\"node\">\n",
       "<title>2</title>\n",
       "<ellipse fill=\"#00a5ff\" stroke=\"#000000\" cx=\"119\" cy=\"-45\" rx=\"18\" ry=\"18\"/>\n",
       "<text text-anchor=\"start\" x=\"114\" y=\"-42.3\" font-family=\"verdana\" font-weight=\"bold\" font-size=\"14.00\" fill=\"#ffffff\">2</text>\n",
       "</g>\n",
       "<!-- 1&#45;&#45;2 -->\n",
       "<g id=\"edge1\" class=\"edge\">\n",
       "<title>1&#45;&#45;2</title>\n",
       "<path fill=\"none\" stroke=\"#000000\" d=\"M65.2019,-45C77.2582,-45 90.4791,-45 100.7976,-45\"/>\n",
       "</g>\n",
       "<!-- 3 -->\n",
       "<g id=\"node3\" class=\"node\">\n",
       "<title>3</title>\n",
       "<ellipse fill=\"none\" stroke=\"#000000\" stroke-width=\"2\" cx=\"191\" cy=\"-45\" rx=\"18\" ry=\"18\"/>\n",
       "<text text-anchor=\"middle\" x=\"191\" y=\"-41.3\" font-family=\"verdana\" font-size=\"14.00\" fill=\"#000000\">3</text>\n",
       "</g>\n",
       "<!-- 2&#45;&#45;3 -->\n",
       "<g id=\"edge2\" class=\"edge\">\n",
       "<title>2&#45;&#45;3</title>\n",
       "<path fill=\"none\" stroke=\"#000000\" d=\"M137.1686,-45C148,-45 161.7124,-45 172.5867,-45\"/>\n",
       "</g>\n",
       "<!-- 4 -->\n",
       "<g id=\"node4\" class=\"node\">\n",
       "<title>4</title>\n",
       "<ellipse fill=\"none\" stroke=\"#000000\" stroke-width=\"2\" cx=\"263\" cy=\"-72\" rx=\"18\" ry=\"18\"/>\n",
       "<text text-anchor=\"middle\" x=\"263\" y=\"-68.3\" font-family=\"verdana\" font-size=\"14.00\" fill=\"#000000\">4</text>\n",
       "</g>\n",
       "<!-- 3&#45;&#45;4 -->\n",
       "<g id=\"edge3\" class=\"edge\">\n",
       "<title>3&#45;&#45;4</title>\n",
       "<path fill=\"none\" stroke=\"#000000\" d=\"M208.063,-51.3986C219.5404,-55.7026 234.6078,-61.3529 246.0595,-65.6473\"/>\n",
       "</g>\n",
       "<!-- 8 -->\n",
       "<g id=\"node8\" class=\"node\">\n",
       "<title>8</title>\n",
       "<ellipse fill=\"none\" stroke=\"#000000\" stroke-width=\"2\" cx=\"263\" cy=\"-18\" rx=\"18\" ry=\"18\"/>\n",
       "<text text-anchor=\"middle\" x=\"263\" y=\"-14.3\" font-family=\"verdana\" font-size=\"14.00\" fill=\"#000000\">8</text>\n",
       "</g>\n",
       "<!-- 3&#45;&#45;8 -->\n",
       "<g id=\"edge6\" class=\"edge\">\n",
       "<title>3&#45;&#45;8</title>\n",
       "<path fill=\"none\" stroke=\"#000000\" d=\"M208.063,-38.6014C219.5404,-34.2974 234.6078,-28.6471 246.0595,-24.3527\"/>\n",
       "</g>\n",
       "<!-- 5 -->\n",
       "<g id=\"node5\" class=\"node\">\n",
       "<title>5</title>\n",
       "<ellipse fill=\"none\" stroke=\"#000000\" stroke-width=\"2\" cx=\"335\" cy=\"-72\" rx=\"18\" ry=\"18\"/>\n",
       "<text text-anchor=\"middle\" x=\"335\" y=\"-68.3\" font-family=\"verdana\" font-size=\"14.00\" fill=\"#000000\">5</text>\n",
       "</g>\n",
       "<!-- 4&#45;&#45;5 -->\n",
       "<g id=\"edge4\" class=\"edge\">\n",
       "<title>4&#45;&#45;5</title>\n",
       "<path fill=\"none\" stroke=\"#ffcb00\" stroke-width=\"2\" stroke-dasharray=\"5,2\" d=\"M281.1686,-72C292,-72 305.7124,-72 316.5867,-72\"/>\n",
       "</g>\n",
       "<!-- 6 -->\n",
       "<g id=\"node6\" class=\"node\">\n",
       "<title>6</title>\n",
       "<ellipse fill=\"none\" stroke=\"#000000\" stroke-width=\"2\" cx=\"407\" cy=\"-45\" rx=\"18\" ry=\"18\"/>\n",
       "<text text-anchor=\"middle\" x=\"407\" y=\"-41.3\" font-family=\"verdana\" font-size=\"14.00\" fill=\"#000000\">6</text>\n",
       "</g>\n",
       "<!-- 5&#45;&#45;6 -->\n",
       "<g id=\"edge5\" class=\"edge\">\n",
       "<title>5&#45;&#45;6</title>\n",
       "<path fill=\"none\" stroke=\"#000000\" d=\"M352.063,-65.6014C363.5404,-61.2974 378.6078,-55.6471 390.0595,-51.3527\"/>\n",
       "</g>\n",
       "<!-- 7 -->\n",
       "<g id=\"node7\" class=\"node\">\n",
       "<title>7</title>\n",
       "<ellipse fill=\"#ffcb00\" stroke=\"#000000\" cx=\"497.5\" cy=\"-45\" rx=\"32.5\" ry=\"32.5\"/>\n",
       "<ellipse fill=\"none\" stroke=\"#000000\" cx=\"497.5\" cy=\"-45\" rx=\"36.5\" ry=\"36.5\"/>\n",
       "<text text-anchor=\"start\" x=\"492.5\" y=\"-42.3\" font-family=\"verdana\" font-weight=\"bold\" font-size=\"14.00\" fill=\"#000000\">7</text>\n",
       "</g>\n",
       "<!-- 6&#45;&#45;7 -->\n",
       "<g id=\"edge9\" class=\"edge\">\n",
       "<title>6&#45;&#45;7</title>\n",
       "<path fill=\"none\" stroke=\"#000000\" d=\"M425.314,-45C435.5406,-45 448.653,-45 460.8899,-45\"/>\n",
       "</g>\n",
       "<!-- 9 -->\n",
       "<g id=\"node9\" class=\"node\">\n",
       "<title>9</title>\n",
       "<ellipse fill=\"none\" stroke=\"#000000\" stroke-width=\"2\" cx=\"335\" cy=\"-18\" rx=\"18\" ry=\"18\"/>\n",
       "<text text-anchor=\"middle\" x=\"335\" y=\"-14.3\" font-family=\"verdana\" font-size=\"14.00\" fill=\"#000000\">9</text>\n",
       "</g>\n",
       "<!-- 8&#45;&#45;9 -->\n",
       "<g id=\"edge7\" class=\"edge\">\n",
       "<title>8&#45;&#45;9</title>\n",
       "<path fill=\"none\" stroke=\"#000000\" d=\"M281.1686,-18C292,-18 305.7124,-18 316.5867,-18\"/>\n",
       "</g>\n",
       "<!-- 9&#45;&#45;6 -->\n",
       "<g id=\"edge8\" class=\"edge\">\n",
       "<title>9&#45;&#45;6</title>\n",
       "<path fill=\"none\" stroke=\"#000000\" d=\"M352.063,-24.3986C363.5404,-28.7026 378.6078,-34.3529 390.0595,-38.6473\"/>\n",
       "</g>\n",
       "</g>\n",
       "</svg>\n"
      ],
      "text/plain": [
       "<graphviz.dot.Graph at 0x7f7f03b3ff28>"
      ]
     },
     "execution_count": 2,
     "metadata": {},
     "output_type": "execute_result"
    }
   ],
   "source": [
    "from graphviz import Graph\n",
    "\n",
    "g = Graph('G')\n",
    "g.attr(rankdir='LR', size='20', splines='true', ranksep='0.5')\n",
    "g.attr('node', shape='circle', rankdir='LR', style='bold', fontname = \"verdana\")\n",
    "\n",
    "g.node('1', style='filled,bold', fixedsize='true', width='.9')\n",
    "g.node('2', fillcolor='#00A5FF', label='<<b>2</b>>', fontcolor='white', style='filled')  \n",
    "g.node('3')\n",
    "g.node('4')\n",
    "g.node('5')\n",
    "g.node('6')\n",
    "g.node('7', shape='doublecircle', fillcolor='#FFCB00', label='<<b>7</b>>', fontcolor='black', style='filled', fixedsize='true', width='.9')\n",
    "g.node('8')\n",
    "g.node('9')\n",
    "        \n",
    "g.edge('1', '2')\n",
    "g.edge('2', '3')\n",
    "g.edge('3', '4')\n",
    "g.edge('4', '5', style='dashed, bold', color='#FFCB00')\n",
    "g.edge('5', '6')\n",
    "g.edge('3', '8')\n",
    "g.edge('8', '9')\n",
    "g.edge('9', '6')\n",
    "g.edge('6', '7')\n",
    "g"
   ]
  },
  {
   "cell_type": "markdown",
   "metadata": {},
   "source": [
    "O grafo acima modela a cidade da seguinte forma:\n",
    "\n",
    "- Os vértices representam início/fim de uma ou mais ruas (no grafo acima, por exemplo, os vértices 1 e 7 não são o encontro de ruas pois estão nos cantos e só uma aresta sai deles, mas os outros sim\n",
    "\n",
    "- As arestas representam as ruas de uma cidade\n",
    "\n",
    "- As arestas têm o mesmo tamanho (comprimento 1)\n",
    "\n",
    "- A cada tick (etapa de simulação) os veículos andam uma aresta\n",
    "\n",
    "Adotamos a seguinte nomenclatura para separar vértices e arestas especiais:\n",
    "\n",
    "- A aresta amarela representa a rua da cidade onde ocorrerá o evento de fechamento de rua (nenhum veículo passará por essa aresta durante um evento) - essa aresta só será afetada no cenário com evento\n",
    "\n",
    "- O vértice cinza representa a origem de todas as viagens simuladas\n",
    "\n",
    "- O vértice amarelo representa o destino das viagens.\n",
    "\n",
    "- O vértice azul representa o local da cidade que contém uma PMV que alertará os motoristas sobre o fechamento de ruas"
   ]
  },
  {
   "cell_type": "markdown",
   "metadata": {},
   "source": [
    "### Lista de Viagens\n",
    "\n",
    "Nos três cenários utilizamos um total de 100 viagens, que tinham como origem o `vértice 1` e como destino o `vértice 7`."
   ]
  },
  {
   "cell_type": "markdown",
   "metadata": {},
   "source": [
    "## Análise dos Dados\n",
    "\n",
    "### Hipóteses\n",
    "\n",
    "Abaixo comparamos os valores de distância média dos três cenários. A nossa hipótese era que todos os veículos utilizassem o seguinte caminho no grafo apresentado anteriormente:\n",
    "\n",
    "- No cenário **sem evento**, que o caminho fosse o apresentado abaixo. As arestas de cor roxa representam o caminho inicial calculado e o seguido pelos veículos (as arestas que não foram usadas foram ocultadas). Note que, quando no **vértice 3**, ele opta pelo **vértice 4**: o critério de desempate é qual vértice vem primeiro no arquivo de entrada, onde o montamos com os vértices de menor índice primeiro."
   ]
  },
  {
   "cell_type": "code",
   "execution_count": 3,
   "metadata": {
    "hide_input": true
   },
   "outputs": [
    {
     "data": {
      "image/svg+xml": [
       "<?xml version=\"1.0\" encoding=\"UTF-8\" standalone=\"no\"?>\n",
       "<!DOCTYPE svg PUBLIC \"-//W3C//DTD SVG 1.1//EN\"\n",
       " \"http://www.w3.org/Graphics/SVG/1.1/DTD/svg11.dtd\">\n",
       "<!-- Generated by graphviz version 2.40.1 (20161225.0304)\n",
       " -->\n",
       "<!-- Title: G Pages: 1 -->\n",
       "<svg width=\"542pt\" height=\"98pt\"\n",
       " viewBox=\"0.00 0.00 542.00 98.00\" xmlns=\"http://www.w3.org/2000/svg\" xmlns:xlink=\"http://www.w3.org/1999/xlink\">\n",
       "<g id=\"graph0\" class=\"graph\" transform=\"scale(1 1) rotate(0) translate(4 94)\">\n",
       "<title>G</title>\n",
       "<polygon fill=\"#ffffff\" stroke=\"transparent\" points=\"-4,4 -4,-94 538,-94 538,4 -4,4\"/>\n",
       "<!-- 1 -->\n",
       "<g id=\"node1\" class=\"node\">\n",
       "<title>1</title>\n",
       "<ellipse fill=\"#d3d3d3\" stroke=\"#000000\" stroke-width=\"2\" cx=\"32.5\" cy=\"-45\" rx=\"32.5\" ry=\"32.5\"/>\n",
       "<text text-anchor=\"middle\" x=\"32.5\" y=\"-41.3\" font-family=\"verdana\" font-size=\"14.00\" fill=\"#000000\">1</text>\n",
       "</g>\n",
       "<!-- 2 -->\n",
       "<g id=\"node9\" class=\"node\">\n",
       "<title>2</title>\n",
       "<ellipse fill=\"none\" stroke=\"#000000\" stroke-width=\"2\" cx=\"119\" cy=\"-45\" rx=\"18\" ry=\"18\"/>\n",
       "<text text-anchor=\"middle\" x=\"119\" y=\"-41.3\" font-family=\"verdana\" font-size=\"14.00\" fill=\"#000000\">2</text>\n",
       "</g>\n",
       "<!-- 1&#45;&gt;2 -->\n",
       "<g id=\"edge1\" class=\"edge\">\n",
       "<title>1&#45;&gt;2</title>\n",
       "<path fill=\"none\" stroke=\"#f200ff\" stroke-width=\"2\" d=\"M65.2019,-45C73.5848,-45 82.5307,-45 90.6725,-45\"/>\n",
       "<polygon fill=\"#f200ff\" stroke=\"#f200ff\" stroke-width=\"2\" points=\"90.7976,-48.5001 100.7976,-45 90.7975,-41.5001 90.7976,-48.5001\"/>\n",
       "</g>\n",
       "<!-- 3 -->\n",
       "<g id=\"node2\" class=\"node\">\n",
       "<title>3</title>\n",
       "<ellipse fill=\"none\" stroke=\"#000000\" stroke-width=\"2\" cx=\"191\" cy=\"-45\" rx=\"18\" ry=\"18\"/>\n",
       "<text text-anchor=\"middle\" x=\"191\" y=\"-41.3\" font-family=\"verdana\" font-size=\"14.00\" fill=\"#000000\">3</text>\n",
       "</g>\n",
       "<!-- 4 -->\n",
       "<g id=\"node3\" class=\"node\">\n",
       "<title>4</title>\n",
       "<ellipse fill=\"none\" stroke=\"#000000\" stroke-width=\"2\" cx=\"263\" cy=\"-72\" rx=\"18\" ry=\"18\"/>\n",
       "<text text-anchor=\"middle\" x=\"263\" y=\"-68.3\" font-family=\"verdana\" font-size=\"14.00\" fill=\"#000000\">4</text>\n",
       "</g>\n",
       "<!-- 3&#45;&gt;4 -->\n",
       "<g id=\"edge3\" class=\"edge\">\n",
       "<title>3&#45;&gt;4</title>\n",
       "<path fill=\"none\" stroke=\"#f200ff\" stroke-width=\"2\" d=\"M208.063,-51.3986C216.5814,-54.593 227.0773,-58.529 236.6048,-62.1018\"/>\n",
       "<polygon fill=\"#f200ff\" stroke=\"#f200ff\" stroke-width=\"2\" points=\"235.4672,-65.4132 246.0595,-65.6473 237.9251,-58.8589 235.4672,-65.4132\"/>\n",
       "</g>\n",
       "<!-- 8 -->\n",
       "<g id=\"node7\" class=\"node\">\n",
       "<title>8</title>\n",
       "<ellipse fill=\"none\" stroke=\"#000000\" stroke-width=\"2\" cx=\"263\" cy=\"-18\" rx=\"18\" ry=\"18\"/>\n",
       "<text text-anchor=\"middle\" x=\"263\" y=\"-14.3\" font-family=\"verdana\" font-size=\"14.00\" fill=\"#000000\">8</text>\n",
       "</g>\n",
       "<!-- 3&#45;&gt;8 -->\n",
       "<!-- 5 -->\n",
       "<g id=\"node4\" class=\"node\">\n",
       "<title>5</title>\n",
       "<ellipse fill=\"none\" stroke=\"#000000\" stroke-width=\"2\" cx=\"335\" cy=\"-72\" rx=\"18\" ry=\"18\"/>\n",
       "<text text-anchor=\"middle\" x=\"335\" y=\"-68.3\" font-family=\"verdana\" font-size=\"14.00\" fill=\"#000000\">5</text>\n",
       "</g>\n",
       "<!-- 4&#45;&gt;5 -->\n",
       "<g id=\"edge4\" class=\"edge\">\n",
       "<title>4&#45;&gt;5</title>\n",
       "<path fill=\"none\" stroke=\"#f200ff\" stroke-width=\"2\" d=\"M281.1686,-72C288.869,-72 298.0257,-72 306.5834,-72\"/>\n",
       "<polygon fill=\"#f200ff\" stroke=\"#f200ff\" stroke-width=\"2\" points=\"306.5868,-75.5001 316.5867,-72 306.5867,-68.5001 306.5868,-75.5001\"/>\n",
       "</g>\n",
       "<!-- 6 -->\n",
       "<g id=\"node5\" class=\"node\">\n",
       "<title>6</title>\n",
       "<ellipse fill=\"none\" stroke=\"#000000\" stroke-width=\"2\" cx=\"407\" cy=\"-45\" rx=\"18\" ry=\"18\"/>\n",
       "<text text-anchor=\"middle\" x=\"407\" y=\"-41.3\" font-family=\"verdana\" font-size=\"14.00\" fill=\"#000000\">6</text>\n",
       "</g>\n",
       "<!-- 5&#45;&gt;6 -->\n",
       "<g id=\"edge5\" class=\"edge\">\n",
       "<title>5&#45;&gt;6</title>\n",
       "<path fill=\"none\" stroke=\"#f200ff\" stroke-width=\"2\" d=\"M352.063,-65.6014C360.5814,-62.407 371.0773,-58.471 380.6048,-54.8982\"/>\n",
       "<polygon fill=\"#f200ff\" stroke=\"#f200ff\" stroke-width=\"2\" points=\"381.9251,-58.1411 390.0595,-51.3527 379.4672,-51.5868 381.9251,-58.1411\"/>\n",
       "</g>\n",
       "<!-- 7 -->\n",
       "<g id=\"node6\" class=\"node\">\n",
       "<title>7</title>\n",
       "<ellipse fill=\"#ffcb00\" stroke=\"#000000\" cx=\"497.5\" cy=\"-45\" rx=\"32.5\" ry=\"32.5\"/>\n",
       "<ellipse fill=\"none\" stroke=\"#000000\" cx=\"497.5\" cy=\"-45\" rx=\"36.5\" ry=\"36.5\"/>\n",
       "<text text-anchor=\"start\" x=\"492.5\" y=\"-42.3\" font-family=\"verdana\" font-weight=\"bold\" font-size=\"14.00\" fill=\"#000000\">7</text>\n",
       "</g>\n",
       "<!-- 6&#45;&gt;7 -->\n",
       "<g id=\"edge9\" class=\"edge\">\n",
       "<title>6&#45;&gt;7</title>\n",
       "<path fill=\"none\" stroke=\"#f200ff\" stroke-width=\"2\" d=\"M425.314,-45C432.7442,-45 441.6979,-45 450.7324,-45\"/>\n",
       "<polygon fill=\"#f200ff\" stroke=\"#f200ff\" stroke-width=\"2\" points=\"450.89,-48.5001 460.8899,-45 450.8899,-41.5001 450.89,-48.5001\"/>\n",
       "</g>\n",
       "<!-- 9 -->\n",
       "<g id=\"node8\" class=\"node\">\n",
       "<title>9</title>\n",
       "<ellipse fill=\"none\" stroke=\"#000000\" stroke-width=\"2\" cx=\"335\" cy=\"-18\" rx=\"18\" ry=\"18\"/>\n",
       "<text text-anchor=\"middle\" x=\"335\" y=\"-14.3\" font-family=\"verdana\" font-size=\"14.00\" fill=\"#000000\">9</text>\n",
       "</g>\n",
       "<!-- 8&#45;&gt;9 -->\n",
       "<!-- 9&#45;&gt;6 -->\n",
       "<!-- 2&#45;&gt;3 -->\n",
       "<g id=\"edge2\" class=\"edge\">\n",
       "<title>2&#45;&gt;3</title>\n",
       "<path fill=\"none\" stroke=\"#f200ff\" stroke-width=\"2\" d=\"M137.1686,-45C144.869,-45 154.0257,-45 162.5834,-45\"/>\n",
       "<polygon fill=\"#f200ff\" stroke=\"#f200ff\" stroke-width=\"2\" points=\"162.5868,-48.5001 172.5867,-45 162.5867,-41.5001 162.5868,-48.5001\"/>\n",
       "</g>\n",
       "</g>\n",
       "</svg>\n"
      ],
      "text/plain": [
       "<graphviz.dot.Digraph at 0x7f7f03af6518>"
      ]
     },
     "execution_count": 3,
     "metadata": {},
     "output_type": "execute_result"
    }
   ],
   "source": [
    "from graphviz import Digraph\n",
    "\n",
    "g = Digraph('G')\n",
    "\n",
    "g.attr(rankdir='LR', size='20', splines='true', ranksep='0.5')\n",
    "g.attr('node', shape='circle', rankdir='LR', style='bold', fontname = \"verdana\")\n",
    "\n",
    "g.node('1', style='filled,bold', fixedsize='true', width='.9')\n",
    "g.node('3')\n",
    "g.node('4')\n",
    "g.node('5')\n",
    "g.node('6')\n",
    "g.node('7', shape='doublecircle', fillcolor='#FFCB00', label='<<b>7</b>>', fontcolor='black', style='filled', fixedsize='true', width='.9')\n",
    "g.node('8')\n",
    "g.node('9')\n",
    "\n",
    "g.edge('1', '2', style='bold', color='#F200FF')\n",
    "g.edge('2', '3', style='bold', color='#F200FF')\n",
    "g.edge('3', '4', style='bold', color='#F200FF')\n",
    "g.edge('4', '5', style='bold', color='#F200FF')\n",
    "g.edge('5', '6', style='bold', color='#F200FF')\n",
    "g.edge('3', '8', style='invis')\n",
    "g.edge('8', '9', style='invis')\n",
    "g.edge('9', '6', style='invis')\n",
    "g.edge('6', '7', style='bold', color='#F200FF')\n",
    "\n",
    "g"
   ]
  },
  {
   "cell_type": "markdown",
   "metadata": {},
   "source": [
    "- No cenário **com evento e sem PMV** que fosse utilizado o percurso no mapa abaixo. As arestas de **cor roxa** representam o caminho inicial que chegou a ser percorrido pelos veículos; as arestas de **cor preta** o caminho inicial calculado mas que não foi percorrido devido ao evento de trânsito na aresta `4 -> 5`; e as arestas de **cor verde** o caminho recalculado e percorrido após se deparar com a aresta proibida. A aresta proibida (`4 -> 5`) está tracejada."
   ]
  },
  {
   "cell_type": "code",
   "execution_count": 4,
   "metadata": {
    "hide_input": true
   },
   "outputs": [
    {
     "data": {
      "image/svg+xml": [
       "<?xml version=\"1.0\" encoding=\"UTF-8\" standalone=\"no\"?>\n",
       "<!DOCTYPE svg PUBLIC \"-//W3C//DTD SVG 1.1//EN\"\n",
       " \"http://www.w3.org/Graphics/SVG/1.1/DTD/svg11.dtd\">\n",
       "<!-- Generated by graphviz version 2.40.1 (20161225.0304)\n",
       " -->\n",
       "<!-- Title: G Pages: 1 -->\n",
       "<svg width=\"542pt\" height=\"113pt\"\n",
       " viewBox=\"0.00 0.00 542.00 112.50\" xmlns=\"http://www.w3.org/2000/svg\" xmlns:xlink=\"http://www.w3.org/1999/xlink\">\n",
       "<g id=\"graph0\" class=\"graph\" transform=\"scale(1 1) rotate(0) translate(4 108.5)\">\n",
       "<title>G</title>\n",
       "<polygon fill=\"#ffffff\" stroke=\"transparent\" points=\"-4,4 -4,-108.5 538,-108.5 538,4 -4,4\"/>\n",
       "<!-- 1 -->\n",
       "<g id=\"node1\" class=\"node\">\n",
       "<title>1</title>\n",
       "<ellipse fill=\"#d3d3d3\" stroke=\"#000000\" stroke-width=\"2\" cx=\"32.5\" cy=\"-72\" rx=\"32.5\" ry=\"32.5\"/>\n",
       "<text text-anchor=\"middle\" x=\"32.5\" y=\"-68.3\" font-family=\"verdana\" font-size=\"14.00\" fill=\"#000000\">1</text>\n",
       "</g>\n",
       "<!-- 2 -->\n",
       "<g id=\"node9\" class=\"node\">\n",
       "<title>2</title>\n",
       "<ellipse fill=\"none\" stroke=\"#000000\" stroke-width=\"2\" cx=\"119\" cy=\"-72\" rx=\"18\" ry=\"18\"/>\n",
       "<text text-anchor=\"middle\" x=\"119\" y=\"-68.3\" font-family=\"verdana\" font-size=\"14.00\" fill=\"#000000\">2</text>\n",
       "</g>\n",
       "<!-- 1&#45;&gt;2 -->\n",
       "<g id=\"edge1\" class=\"edge\">\n",
       "<title>1&#45;&gt;2</title>\n",
       "<path fill=\"none\" stroke=\"#f200ff\" stroke-width=\"2\" d=\"M65.2019,-72C73.5848,-72 82.5307,-72 90.6725,-72\"/>\n",
       "<polygon fill=\"#f200ff\" stroke=\"#f200ff\" stroke-width=\"2\" points=\"90.7976,-75.5001 100.7976,-72 90.7975,-68.5001 90.7976,-75.5001\"/>\n",
       "</g>\n",
       "<!-- 3 -->\n",
       "<g id=\"node2\" class=\"node\">\n",
       "<title>3</title>\n",
       "<ellipse fill=\"none\" stroke=\"#000000\" stroke-width=\"2\" cx=\"191\" cy=\"-72\" rx=\"18\" ry=\"18\"/>\n",
       "<text text-anchor=\"middle\" x=\"191\" y=\"-68.3\" font-family=\"verdana\" font-size=\"14.00\" fill=\"#000000\">3</text>\n",
       "</g>\n",
       "<!-- 4 -->\n",
       "<g id=\"node3\" class=\"node\">\n",
       "<title>4</title>\n",
       "<ellipse fill=\"#e25a1c\" stroke=\"#000000\" cx=\"263\" cy=\"-72\" rx=\"18\" ry=\"18\"/>\n",
       "<text text-anchor=\"middle\" x=\"263\" y=\"-68.3\" font-family=\"verdana\" font-size=\"14.00\" fill=\"#ffffff\">4</text>\n",
       "</g>\n",
       "<!-- 3&#45;&gt;4 -->\n",
       "<g id=\"edge4\" class=\"edge\">\n",
       "<title>3&#45;&gt;4</title>\n",
       "<path fill=\"none\" stroke=\"#f200ff\" stroke-width=\"2\" d=\"M208.063,-66.1601C216.1928,-65.2975 226.1239,-65.0481 235.2953,-65.4119\"/>\n",
       "<polygon fill=\"#f200ff\" stroke=\"#f200ff\" stroke-width=\"2\" points=\"235.342,-68.9233 245.5593,-66.1206 235.8242,-61.94 235.342,-68.9233\"/>\n",
       "</g>\n",
       "<!-- 8 -->\n",
       "<g id=\"node7\" class=\"node\">\n",
       "<title>8</title>\n",
       "<ellipse fill=\"none\" stroke=\"#000000\" stroke-width=\"2\" cx=\"263\" cy=\"-18\" rx=\"18\" ry=\"18\"/>\n",
       "<text text-anchor=\"middle\" x=\"263\" y=\"-14.3\" font-family=\"verdana\" font-size=\"14.00\" fill=\"#000000\">8</text>\n",
       "</g>\n",
       "<!-- 3&#45;&gt;8 -->\n",
       "<g id=\"edge7\" class=\"edge\">\n",
       "<title>3&#45;&gt;8</title>\n",
       "<path fill=\"none\" stroke=\"#0dff00\" stroke-width=\"2\" d=\"M205.5703,-61.0723C215.5246,-53.6066 228.9158,-43.5632 240.2632,-35.0526\"/>\n",
       "<polygon fill=\"#0dff00\" stroke=\"#0dff00\" stroke-width=\"2\" points=\"242.5514,-37.7115 248.4514,-28.9115 238.3514,-32.1115 242.5514,-37.7115\"/>\n",
       "</g>\n",
       "<!-- 4&#45;&gt;3 -->\n",
       "<g id=\"edge3\" class=\"edge\">\n",
       "<title>4&#45;&gt;3</title>\n",
       "<path fill=\"none\" stroke=\"#0dff00\" stroke-width=\"2\" d=\"M245.5593,-77.8794C237.3745,-78.7231 227.428,-78.9536 218.2807,-78.5709\"/>\n",
       "<polygon fill=\"#0dff00\" stroke=\"#0dff00\" stroke-width=\"2\" points=\"218.2873,-75.0625 208.063,-77.8399 217.7877,-82.0446 218.2873,-75.0625\"/>\n",
       "</g>\n",
       "<!-- 5 -->\n",
       "<g id=\"node4\" class=\"node\">\n",
       "<title>5</title>\n",
       "<ellipse fill=\"none\" stroke=\"#000000\" stroke-width=\"2\" cx=\"335\" cy=\"-72\" rx=\"18\" ry=\"18\"/>\n",
       "<text text-anchor=\"middle\" x=\"335\" y=\"-68.3\" font-family=\"verdana\" font-size=\"14.00\" fill=\"#000000\">5</text>\n",
       "</g>\n",
       "<!-- 4&#45;&gt;5 -->\n",
       "<g id=\"edge5\" class=\"edge\">\n",
       "<title>4&#45;&gt;5</title>\n",
       "<path fill=\"none\" stroke=\"#000000\" stroke-dasharray=\"5,2\" d=\"M281.1686,-72C288.869,-72 298.0257,-72 306.5834,-72\"/>\n",
       "<polygon fill=\"#000000\" stroke=\"#000000\" points=\"306.5868,-75.5001 316.5867,-72 306.5867,-68.5001 306.5868,-75.5001\"/>\n",
       "</g>\n",
       "<!-- 6 -->\n",
       "<g id=\"node5\" class=\"node\">\n",
       "<title>6</title>\n",
       "<ellipse fill=\"none\" stroke=\"#000000\" stroke-width=\"2\" cx=\"407\" cy=\"-45\" rx=\"18\" ry=\"18\"/>\n",
       "<text text-anchor=\"middle\" x=\"407\" y=\"-41.3\" font-family=\"verdana\" font-size=\"14.00\" fill=\"#000000\">6</text>\n",
       "</g>\n",
       "<!-- 5&#45;&gt;6 -->\n",
       "<g id=\"edge6\" class=\"edge\">\n",
       "<title>5&#45;&gt;6</title>\n",
       "<path fill=\"none\" stroke=\"#000000\" stroke-width=\"2\" d=\"M352.063,-65.6014C360.5814,-62.407 371.0773,-58.471 380.6048,-54.8982\"/>\n",
       "<polygon fill=\"#000000\" stroke=\"#000000\" stroke-width=\"2\" points=\"381.9251,-58.1411 390.0595,-51.3527 379.4672,-51.5868 381.9251,-58.1411\"/>\n",
       "</g>\n",
       "<!-- 7 -->\n",
       "<g id=\"node6\" class=\"node\">\n",
       "<title>7</title>\n",
       "<ellipse fill=\"#ffcb00\" stroke=\"#000000\" cx=\"497.5\" cy=\"-45\" rx=\"32.5\" ry=\"32.5\"/>\n",
       "<ellipse fill=\"none\" stroke=\"#000000\" cx=\"497.5\" cy=\"-45\" rx=\"36.5\" ry=\"36.5\"/>\n",
       "<text text-anchor=\"start\" x=\"492.5\" y=\"-42.3\" font-family=\"verdana\" font-weight=\"bold\" font-size=\"14.00\" fill=\"#000000\">7</text>\n",
       "</g>\n",
       "<!-- 6&#45;&gt;7 -->\n",
       "<g id=\"edge10\" class=\"edge\">\n",
       "<title>6&#45;&gt;7</title>\n",
       "<path fill=\"none\" stroke=\"#0dff00\" stroke-width=\"2\" d=\"M424.4493,-39.542C432.1442,-38.7139 441.5904,-38.2839 451.1041,-38.2519\"/>\n",
       "<polygon fill=\"#0dff00\" stroke=\"#0dff00\" stroke-width=\"2\" points=\"451.3336,-41.7548 461.3744,-38.3735 451.4165,-34.7553 451.3336,-41.7548\"/>\n",
       "</g>\n",
       "<!-- 6&#45;&gt;7 -->\n",
       "<g id=\"edge11\" class=\"edge\">\n",
       "<title>6&#45;&gt;7</title>\n",
       "<path fill=\"none\" stroke=\"#000000\" stroke-width=\"2\" d=\"M424.4493,-50.458C432.1442,-51.2861 441.5904,-51.7161 451.1041,-51.7481\"/>\n",
       "<polygon fill=\"#000000\" stroke=\"#000000\" stroke-width=\"2\" points=\"451.4165,-55.2447 461.3744,-51.6265 451.3336,-48.2452 451.4165,-55.2447\"/>\n",
       "</g>\n",
       "<!-- 9 -->\n",
       "<g id=\"node8\" class=\"node\">\n",
       "<title>9</title>\n",
       "<ellipse fill=\"none\" stroke=\"#000000\" stroke-width=\"2\" cx=\"335\" cy=\"-18\" rx=\"18\" ry=\"18\"/>\n",
       "<text text-anchor=\"middle\" x=\"335\" y=\"-14.3\" font-family=\"verdana\" font-size=\"14.00\" fill=\"#000000\">9</text>\n",
       "</g>\n",
       "<!-- 8&#45;&gt;9 -->\n",
       "<g id=\"edge8\" class=\"edge\">\n",
       "<title>8&#45;&gt;9</title>\n",
       "<path fill=\"none\" stroke=\"#0dff00\" stroke-width=\"2\" d=\"M281.1686,-18C288.869,-18 298.0257,-18 306.5834,-18\"/>\n",
       "<polygon fill=\"#0dff00\" stroke=\"#0dff00\" stroke-width=\"2\" points=\"306.5868,-21.5001 316.5867,-18 306.5867,-14.5001 306.5868,-21.5001\"/>\n",
       "</g>\n",
       "<!-- 9&#45;&gt;6 -->\n",
       "<g id=\"edge9\" class=\"edge\">\n",
       "<title>9&#45;&gt;6</title>\n",
       "<path fill=\"none\" stroke=\"#0dff00\" stroke-width=\"2\" d=\"M352.063,-24.3986C360.5814,-27.593 371.0773,-31.529 380.6048,-35.1018\"/>\n",
       "<polygon fill=\"#0dff00\" stroke=\"#0dff00\" stroke-width=\"2\" points=\"379.4672,-38.4132 390.0595,-38.6473 381.9251,-31.8589 379.4672,-38.4132\"/>\n",
       "</g>\n",
       "<!-- 2&#45;&gt;3 -->\n",
       "<g id=\"edge2\" class=\"edge\">\n",
       "<title>2&#45;&gt;3</title>\n",
       "<path fill=\"none\" stroke=\"#f200ff\" stroke-width=\"2\" d=\"M137.1686,-72C144.869,-72 154.0257,-72 162.5834,-72\"/>\n",
       "<polygon fill=\"#f200ff\" stroke=\"#f200ff\" stroke-width=\"2\" points=\"162.5868,-75.5001 172.5867,-72 162.5867,-68.5001 162.5868,-75.5001\"/>\n",
       "</g>\n",
       "</g>\n",
       "</svg>\n"
      ],
      "text/plain": [
       "<graphviz.dot.Digraph at 0x7f7f03aed0f0>"
      ]
     },
     "execution_count": 4,
     "metadata": {},
     "output_type": "execute_result"
    }
   ],
   "source": [
    "from graphviz import Digraph\n",
    "\n",
    "g = Digraph('G')\n",
    "g.attr(rankdir='LR', size='20', splines='true', ranksep='0.5')\n",
    "g.attr('node', shape='circle', rankdir='LR', style='bold', fontname = \"verdana\")\n",
    "\n",
    "g.node('1', style='filled,bold', fixedsize='true', width='.9')\n",
    "g.node('3')\n",
    "g.node('4', fillcolor='#E25A1C', fontcolor='white', style='filled')\n",
    "\n",
    "\n",
    "g.node('5')\n",
    "g.node('6')\n",
    "g.node('7', shape='doublecircle', fillcolor='#FFCB00', label='<<b>7</b>>', fontcolor='black', style='filled', fixedsize='true', width='.9')\n",
    "g.node('8')\n",
    "g.node('9')\n",
    "\n",
    "g.edge('1', '2', style='bold', color='#F200FF')\n",
    "g.edge('2', '3', style='bold', color='#F200FF')\n",
    "\n",
    "g.edge('4', '3', style='bold', color='#0DFF00')\n",
    "g.edge('3', '4', style='bold', color='#F200FF')\n",
    "g.edge('4', '5', style='dashed')\n",
    "g.edge('5', '6', style='bold')\n",
    "g.edge('3', '8', style='bold', color='#0DFF00')\n",
    "g.edge('8', '9', style='bold', color='#0DFF00')\n",
    "g.edge('9', '6', style='bold', color='#0DFF00')\n",
    "g.edge('6', '7', style='bold', color='#0DFF00')\n",
    "g.edge('6', '7', style='bold')\n",
    "\n",
    "g"
   ]
  },
  {
   "cell_type": "markdown",
   "metadata": {},
   "source": [
    "* No cenário **com evento e com auxílio de PMV** que fosse utilizado o grafo abaixo. Novamente ocorre um evento de fechamento de trânsito na aresta `4 -> 5`, tornando-a proibida, contudo uma PMV posicionada no vértice 2 (cor azul) notifica os motoristas a respeito do evento, fazendo com que a rota seja recalculada previamente. Utilizamos a mesma notação, onde as arestas de **cor roxa** representam o caminho inicial que chegou a ser percorrido pelos veículos; as arestas de **cor preta** o caminho inicial calculado mas que não foi percorrido devido a notificação da PMV posicionada no vértice `2`; as arestas de **cor verde** representam o caminho recalculado e percorrido (agora recalculados pela notificação do PMV). A aresta proibida (`4 -> 5`) continua tracejada. Ainda, esperávamos que certos veículos utilizassem o mesmo caminho caso não houvesse PMV (ignorando as notificações), tendo resultado igual ao cenário citado anteriormente; cerca de `1/3` dos veículos que são notificados utilizam o novo caminho recalculado, e `2/3` utilizam o caminho inicial."
   ]
  },
  {
   "cell_type": "code",
   "execution_count": 5,
   "metadata": {
    "hide_input": true
   },
   "outputs": [
    {
     "data": {
      "image/svg+xml": [
       "<?xml version=\"1.0\" encoding=\"UTF-8\" standalone=\"no\"?>\n",
       "<!DOCTYPE svg PUBLIC \"-//W3C//DTD SVG 1.1//EN\"\n",
       " \"http://www.w3.org/Graphics/SVG/1.1/DTD/svg11.dtd\">\n",
       "<!-- Generated by graphviz version 2.40.1 (20161225.0304)\n",
       " -->\n",
       "<!-- Title: G Pages: 1 -->\n",
       "<svg width=\"542pt\" height=\"98pt\"\n",
       " viewBox=\"0.00 0.00 542.00 98.00\" xmlns=\"http://www.w3.org/2000/svg\" xmlns:xlink=\"http://www.w3.org/1999/xlink\">\n",
       "<g id=\"graph0\" class=\"graph\" transform=\"scale(1 1) rotate(0) translate(4 94)\">\n",
       "<title>G</title>\n",
       "<polygon fill=\"#ffffff\" stroke=\"transparent\" points=\"-4,4 -4,-94 538,-94 538,4 -4,4\"/>\n",
       "<!-- 1 -->\n",
       "<g id=\"node1\" class=\"node\">\n",
       "<title>1</title>\n",
       "<ellipse fill=\"#d3d3d3\" stroke=\"#000000\" stroke-width=\"2\" cx=\"32.5\" cy=\"-45\" rx=\"32.5\" ry=\"32.5\"/>\n",
       "<text text-anchor=\"middle\" x=\"32.5\" y=\"-41.3\" font-family=\"verdana\" font-size=\"14.00\" fill=\"#000000\">1</text>\n",
       "</g>\n",
       "<!-- 2 -->\n",
       "<g id=\"node2\" class=\"node\">\n",
       "<title>2</title>\n",
       "<ellipse fill=\"#00a5ff\" stroke=\"#000000\" cx=\"119\" cy=\"-45\" rx=\"18\" ry=\"18\"/>\n",
       "<text text-anchor=\"start\" x=\"114\" y=\"-42.3\" font-family=\"verdana\" font-weight=\"bold\" font-size=\"14.00\" fill=\"#ffffff\">2</text>\n",
       "</g>\n",
       "<!-- 1&#45;&gt;2 -->\n",
       "<g id=\"edge1\" class=\"edge\">\n",
       "<title>1&#45;&gt;2</title>\n",
       "<path fill=\"none\" stroke=\"#f200ff\" stroke-width=\"2\" d=\"M65.2019,-45C73.5848,-45 82.5307,-45 90.6725,-45\"/>\n",
       "<polygon fill=\"#f200ff\" stroke=\"#f200ff\" stroke-width=\"2\" points=\"90.7976,-48.5001 100.7976,-45 90.7975,-41.5001 90.7976,-48.5001\"/>\n",
       "</g>\n",
       "<!-- 3 -->\n",
       "<g id=\"node3\" class=\"node\">\n",
       "<title>3</title>\n",
       "<ellipse fill=\"none\" stroke=\"#000000\" stroke-width=\"2\" cx=\"191\" cy=\"-45\" rx=\"18\" ry=\"18\"/>\n",
       "<text text-anchor=\"middle\" x=\"191\" y=\"-41.3\" font-family=\"verdana\" font-size=\"14.00\" fill=\"#000000\">3</text>\n",
       "</g>\n",
       "<!-- 2&#45;&gt;3 -->\n",
       "<g id=\"edge2\" class=\"edge\">\n",
       "<title>2&#45;&gt;3</title>\n",
       "<path fill=\"none\" stroke=\"#0dff00\" stroke-width=\"2\" d=\"M137.1686,-45C144.869,-45 154.0257,-45 162.5834,-45\"/>\n",
       "<polygon fill=\"#0dff00\" stroke=\"#0dff00\" stroke-width=\"2\" points=\"162.5868,-48.5001 172.5867,-45 162.5867,-41.5001 162.5868,-48.5001\"/>\n",
       "</g>\n",
       "<!-- 4 -->\n",
       "<g id=\"node4\" class=\"node\">\n",
       "<title>4</title>\n",
       "<ellipse fill=\"none\" stroke=\"#000000\" stroke-width=\"2\" cx=\"263\" cy=\"-72\" rx=\"18\" ry=\"18\"/>\n",
       "<text text-anchor=\"middle\" x=\"263\" y=\"-68.3\" font-family=\"verdana\" font-size=\"14.00\" fill=\"#000000\">4</text>\n",
       "</g>\n",
       "<!-- 3&#45;&gt;4 -->\n",
       "<g id=\"edge3\" class=\"edge\">\n",
       "<title>3&#45;&gt;4</title>\n",
       "<path fill=\"none\" stroke=\"#000000\" stroke-width=\"2\" d=\"M208.063,-51.3986C216.5814,-54.593 227.0773,-58.529 236.6048,-62.1018\"/>\n",
       "<polygon fill=\"#000000\" stroke=\"#000000\" stroke-width=\"2\" points=\"235.4672,-65.4132 246.0595,-65.6473 237.9251,-58.8589 235.4672,-65.4132\"/>\n",
       "</g>\n",
       "<!-- 8 -->\n",
       "<g id=\"node8\" class=\"node\">\n",
       "<title>8</title>\n",
       "<ellipse fill=\"none\" stroke=\"#000000\" stroke-width=\"2\" cx=\"263\" cy=\"-18\" rx=\"18\" ry=\"18\"/>\n",
       "<text text-anchor=\"middle\" x=\"263\" y=\"-14.3\" font-family=\"verdana\" font-size=\"14.00\" fill=\"#000000\">8</text>\n",
       "</g>\n",
       "<!-- 3&#45;&gt;8 -->\n",
       "<g id=\"edge6\" class=\"edge\">\n",
       "<title>3&#45;&gt;8</title>\n",
       "<path fill=\"none\" stroke=\"#0dff00\" stroke-width=\"2\" d=\"M208.063,-38.6014C216.5814,-35.407 227.0773,-31.471 236.6048,-27.8982\"/>\n",
       "<polygon fill=\"#0dff00\" stroke=\"#0dff00\" stroke-width=\"2\" points=\"237.9251,-31.1411 246.0595,-24.3527 235.4672,-24.5868 237.9251,-31.1411\"/>\n",
       "</g>\n",
       "<!-- 5 -->\n",
       "<g id=\"node5\" class=\"node\">\n",
       "<title>5</title>\n",
       "<ellipse fill=\"none\" stroke=\"#000000\" stroke-width=\"2\" cx=\"335\" cy=\"-72\" rx=\"18\" ry=\"18\"/>\n",
       "<text text-anchor=\"middle\" x=\"335\" y=\"-68.3\" font-family=\"verdana\" font-size=\"14.00\" fill=\"#000000\">5</text>\n",
       "</g>\n",
       "<!-- 4&#45;&gt;5 -->\n",
       "<g id=\"edge4\" class=\"edge\">\n",
       "<title>4&#45;&gt;5</title>\n",
       "<path fill=\"none\" stroke=\"#000000\" stroke-dasharray=\"5,2\" d=\"M281.1686,-72C288.869,-72 298.0257,-72 306.5834,-72\"/>\n",
       "<polygon fill=\"#000000\" stroke=\"#000000\" points=\"306.5868,-75.5001 316.5867,-72 306.5867,-68.5001 306.5868,-75.5001\"/>\n",
       "</g>\n",
       "<!-- 6 -->\n",
       "<g id=\"node6\" class=\"node\">\n",
       "<title>6</title>\n",
       "<ellipse fill=\"none\" stroke=\"#000000\" stroke-width=\"2\" cx=\"407\" cy=\"-45\" rx=\"18\" ry=\"18\"/>\n",
       "<text text-anchor=\"middle\" x=\"407\" y=\"-41.3\" font-family=\"verdana\" font-size=\"14.00\" fill=\"#000000\">6</text>\n",
       "</g>\n",
       "<!-- 5&#45;&gt;6 -->\n",
       "<g id=\"edge5\" class=\"edge\">\n",
       "<title>5&#45;&gt;6</title>\n",
       "<path fill=\"none\" stroke=\"#000000\" stroke-width=\"2\" d=\"M352.063,-65.6014C360.5814,-62.407 371.0773,-58.471 380.6048,-54.8982\"/>\n",
       "<polygon fill=\"#000000\" stroke=\"#000000\" stroke-width=\"2\" points=\"381.9251,-58.1411 390.0595,-51.3527 379.4672,-51.5868 381.9251,-58.1411\"/>\n",
       "</g>\n",
       "<!-- 7 -->\n",
       "<g id=\"node7\" class=\"node\">\n",
       "<title>7</title>\n",
       "<ellipse fill=\"#ffcb00\" stroke=\"#000000\" cx=\"497.5\" cy=\"-45\" rx=\"32.5\" ry=\"32.5\"/>\n",
       "<ellipse fill=\"none\" stroke=\"#000000\" cx=\"497.5\" cy=\"-45\" rx=\"36.5\" ry=\"36.5\"/>\n",
       "<text text-anchor=\"start\" x=\"492.5\" y=\"-42.3\" font-family=\"verdana\" font-weight=\"bold\" font-size=\"14.00\" fill=\"#000000\">7</text>\n",
       "</g>\n",
       "<!-- 6&#45;&gt;7 -->\n",
       "<g id=\"edge9\" class=\"edge\">\n",
       "<title>6&#45;&gt;7</title>\n",
       "<path fill=\"none\" stroke=\"#0dff00\" stroke-width=\"2\" d=\"M424.4493,-39.542C432.1442,-38.7139 441.5904,-38.2839 451.1041,-38.2519\"/>\n",
       "<polygon fill=\"#0dff00\" stroke=\"#0dff00\" stroke-width=\"2\" points=\"451.3336,-41.7548 461.3744,-38.3735 451.4165,-34.7553 451.3336,-41.7548\"/>\n",
       "</g>\n",
       "<!-- 6&#45;&gt;7 -->\n",
       "<g id=\"edge10\" class=\"edge\">\n",
       "<title>6&#45;&gt;7</title>\n",
       "<path fill=\"none\" stroke=\"#000000\" stroke-width=\"2\" d=\"M424.4493,-50.458C432.1442,-51.2861 441.5904,-51.7161 451.1041,-51.7481\"/>\n",
       "<polygon fill=\"#000000\" stroke=\"#000000\" stroke-width=\"2\" points=\"451.4165,-55.2447 461.3744,-51.6265 451.3336,-48.2452 451.4165,-55.2447\"/>\n",
       "</g>\n",
       "<!-- 9 -->\n",
       "<g id=\"node9\" class=\"node\">\n",
       "<title>9</title>\n",
       "<ellipse fill=\"none\" stroke=\"#000000\" stroke-width=\"2\" cx=\"335\" cy=\"-18\" rx=\"18\" ry=\"18\"/>\n",
       "<text text-anchor=\"middle\" x=\"335\" y=\"-14.3\" font-family=\"verdana\" font-size=\"14.00\" fill=\"#000000\">9</text>\n",
       "</g>\n",
       "<!-- 8&#45;&gt;9 -->\n",
       "<g id=\"edge7\" class=\"edge\">\n",
       "<title>8&#45;&gt;9</title>\n",
       "<path fill=\"none\" stroke=\"#0dff00\" stroke-width=\"2\" d=\"M281.1686,-18C288.869,-18 298.0257,-18 306.5834,-18\"/>\n",
       "<polygon fill=\"#0dff00\" stroke=\"#0dff00\" stroke-width=\"2\" points=\"306.5868,-21.5001 316.5867,-18 306.5867,-14.5001 306.5868,-21.5001\"/>\n",
       "</g>\n",
       "<!-- 9&#45;&gt;6 -->\n",
       "<g id=\"edge8\" class=\"edge\">\n",
       "<title>9&#45;&gt;6</title>\n",
       "<path fill=\"none\" stroke=\"#0dff00\" stroke-width=\"2\" d=\"M352.063,-24.3986C360.5814,-27.593 371.0773,-31.529 380.6048,-35.1018\"/>\n",
       "<polygon fill=\"#0dff00\" stroke=\"#0dff00\" stroke-width=\"2\" points=\"379.4672,-38.4132 390.0595,-38.6473 381.9251,-31.8589 379.4672,-38.4132\"/>\n",
       "</g>\n",
       "</g>\n",
       "</svg>\n"
      ],
      "text/plain": [
       "<graphviz.dot.Digraph at 0x7f7f03af51d0>"
      ]
     },
     "execution_count": 5,
     "metadata": {},
     "output_type": "execute_result"
    }
   ],
   "source": [
    "from graphviz import Digraph\n",
    "\n",
    "g = Digraph('G')\n",
    "g.attr(rankdir='LR', size='20', splines='true', ranksep='0.5')\n",
    "g.attr('node', shape='circle', rankdir='LR', style='bold', fontname = \"verdana\")\n",
    "\n",
    "g.node('1', style='filled,bold', fixedsize='true', width='.9')\n",
    "g.node('2', fillcolor='#00A5FF', label='<<b>2</b>>', fontcolor='white', style='filled')  \n",
    "g.node('3')\n",
    "g.node('4')\n",
    "g.node('5')\n",
    "g.node('6')\n",
    "g.node('7', shape='doublecircle', fillcolor='#FFCB00', label='<<b>7</b>>', fontcolor='black', style='filled', fixedsize='true', width='.9')\n",
    "g.node('8')\n",
    "g.node('9')\n",
    "\n",
    "g.edge('1', '2', style='bold', color='#F200FF')\n",
    "g.edge('2', '3', style='bold', color='#0DFF00')\n",
    "\n",
    "g.edge('3', '4', style='bold')\n",
    "\n",
    "g.edge('4', '5', style='dashed')\n",
    "g.edge('5', '6', style='bold')\n",
    "g.edge('3', '8', style='bold', color='#0DFF00')\n",
    "g.edge('8', '9', style='bold', color='#0DFF00')\n",
    "g.edge('9', '6', style='bold', color='#0DFF00')\n",
    "g.edge('6', '7', style='bold', color='#0DFF00')\n",
    "g.edge('6', '7', style='bold')\n",
    "\n",
    "g"
   ]
  },
  {
   "cell_type": "markdown",
   "metadata": {},
   "source": [
    "### Resultados e Conclusões\n",
    "\n",
    "Inicialmente, carregamos os conjuntos de dados construídos a partir das simulações realizadas. Daqui em diante chamaremos o cenário que não ocorre o evento de `baseline`, o cenário onde ocorre o evento mas que não possui PMV de `events` e o cenário onde ocorre o evento e há o auxílio de PMV de `pmv`:"
   ]
  },
  {
   "cell_type": "code",
   "execution_count": 2,
   "metadata": {},
   "outputs": [],
   "source": [
    "# carregando os dados\n",
    "baseline_dataset_path = \"validation/datasets/baseline_scenario/output.csv\"\n",
    "events_dataset_path = \"validation/datasets/events_scenario/output.csv\"\n",
    "pmv_dataset_path = \"validation/datasets/pmv_scenario/output.csv\"\n",
    "\n",
    "baseline_df = (pd\n",
    "    .read_csv(baseline_dataset_path, delimiter=\";\", header=None, names=COLUMNS)\n",
    "    .assign(first_tick=lambda x: x['last_tick'] - x['duration']))\n",
    "\n",
    "events_df = (pd\n",
    "    .read_csv(events_dataset_path, delimiter=\";\", header=None, names=COLUMNS)\n",
    "    .assign(first_tick=lambda x: x['last_tick'] - x['duration']))\n",
    "\n",
    "pmv_df = (pd\n",
    "    .read_csv(pmv_dataset_path, delimiter=\";\", header=None, names=COLUMNS)\n",
    "    .assign(first_tick=lambda x: x['last_tick'] - x['duration']))"
   ]
  },
  {
   "cell_type": "markdown",
   "metadata": {},
   "source": [
    "Em seguida, agrupamos as viagens (através do ``groupby``) utilizando o campo `last_link` (esse campo indica qual foi a última rua daquela viagem). Todas as viagens têm a mesma origem e destino, sendo agrupadas. Após, calculamos a média dos valores de todos os campos de um grupo. Ao final, no campo `duration` (duração da viagem) será apresentado a média da duração das viagens, no campo `distance` (distância da viagem) a média das distâncias da viagem, e assim sucessivamente."
   ]
  },
  {
   "cell_type": "code",
   "execution_count": 7,
   "metadata": {},
   "outputs": [],
   "source": [
    "df1 = (baseline_df[['last_link', 'distance', 'duration']]\n",
    "        .assign(scenario=r\"Sem evento\"))\n",
    "\n",
    "df2 = (events_df[['last_link', 'distance', 'duration']]\n",
    "        .assign(scenario=r\"Com evento\"))\n",
    "\n",
    "df3 = (pmv_df[['last_link', 'distance', 'duration']]\n",
    "        .assign(scenario=r\"Com evento e PMV\"))"
   ]
  },
  {
   "cell_type": "markdown",
   "metadata": {},
   "source": [
    "Após, construímos um conjunto de dados final composto da média dos três cenários apresentados (através do `append`). Nos preocupamos somente com os campos `last_link`, `distance` e `duration` pois serão os únicos campos usados na análise apresentada a seguir."
   ]
  },
  {
   "cell_type": "code",
   "execution_count": 8,
   "metadata": {},
   "outputs": [],
   "source": [
    "df = df1.append(df2).append(df3)"
   ]
  },
  {
   "cell_type": "markdown",
   "metadata": {},
   "source": [
    "Por fim, abaixo apresentamos os resultados finais dos três cenários utilizando gráficos de barras. Segundo nossas hipóteses (os três caminhos apresentados anteriormente), esperávamos que o cenário **sem evento** percorresse 6 arestas, o cenário **com evento e sem PMV** percorresse 8 arestas e o cenário **com evento e PMV** percorresse entre 6 e 8 arestas (esperávamos que alguns veículos ignorassem as notificações). Nossas hipóteses foram confirmadas, conforme o gráfico abaixo."
   ]
  },
  {
   "cell_type": "code",
   "execution_count": 9,
   "metadata": {},
   "outputs": [
    {
     "name": "stderr",
     "output_type": "stream",
     "text": [
      "No handles with labels found to put in legend.\n"
     ]
    },
    {
     "data": {
      "image/png": "[encoded data removed]",
      "text/plain": [
       "<Figure size 1008x720 with 1 Axes>"
      ]
     },
     "metadata": {},
     "output_type": "display_data"
    }
   ],
   "source": [
    "rc('text', usetex=True)\n",
    "plt.figure(figsize=(14,10))\n",
    "\n",
    "ax = sns.barplot(data=df, x='scenario', y='distance')\n",
    "\n",
    "ax.set_xlabel(r'\\textbf{Cen\\'ario}', fontsize='20')\n",
    "ax.set_ylabel(r'\\textbf{Dist\\^ancia m\\'edia (\\# arestas)}', fontsize='20')\n",
    "\n",
    "plt.legend(loc=\"best\",prop={\"size\":15})\n",
    "plt.title(r\"\\textbf{M\\'edia das dist\\^ancias percorridas para cada destino}\", size=20)\n",
    "plt.grid(True)\n",
    "sns.set(font_scale = 1.5)\n",
    "\n",
    "plt.show()"
   ]
  },
  {
   "cell_type": "markdown",
   "metadata": {},
   "source": [
    "Fizemos uma análise semelhante também para as durações das viagens, conforme apresentado no gráfico abaixo.\n",
    "\n",
    "Uma viagem dura sempre 2 ticks mais o tempo utilizado para percorrer as arestas (uma aresta por tick) e o recálculo de um caminho custa um tick. Por isso, esperávamos agora que o cenário **sem evento** durasse 8 ticks (2+6 por terem 6 arestas), o cenário **com evento e sem PMV** durasse 11 ticks (2+8 arestas+1 pelo recálculo) e o cenário **com evento e PMV** durasse entre 9 e 11 ticks (2+8 arestas+1 pelo recálculo para os motoristas que ignorem o PMV e 2+6 arestas+1 para os motoristas que sigam a notificação do PMV). Nossas hipóteses foram confirmadas, conforme o gráfico abaixo."
   ]
  },
  {
   "cell_type": "code",
   "execution_count": 10,
   "metadata": {},
   "outputs": [
    {
     "name": "stderr",
     "output_type": "stream",
     "text": [
      "No handles with labels found to put in legend.\n"
     ]
    },
    {
     "data": {
      "image/png": "[encoded data removed]",
      "text/plain": [
       "<Figure size 1008x720 with 1 Axes>"
      ]
     },
     "metadata": {},
     "output_type": "display_data"
    }
   ],
   "source": [
    "plt.figure(figsize=(14,10))\n",
    "\n",
    "ax = sns.barplot(data=df, x='scenario', y='duration')\n",
    "\n",
    "ax.set_xlabel(r'\\textbf{Cen\\'ario}', fontsize='20')\n",
    "ax.set_ylabel(r'\\textbf{Dura\\c{c}\\~ao m\\'edia das viagens}', fontsize='20')\n",
    "\n",
    "plt.legend(loc=\"best\",prop={\"size\":15})\n",
    "plt.title(r\"\\textbf{M\\'edia das dura\\c{c}\\~oes das viagens percorridas}\", size=20)\n",
    "plt.grid(True)\n",
    "sns.set(font_scale = 1.5)\n",
    "\n",
    "plt.show()"
   ]
  },
  {
   "cell_type": "markdown",
   "metadata": {},
   "source": [
    "Dessa forma, entendemos que tanto o modelo de trânsito quanto o modelo de PMVs implementados no InterSCSimulator são condizentes com o que esperávamos e que podiamos, de fato, utilizarmos num cenário maior."
   ]
  },
  {
   "cell_type": "markdown",
   "metadata": {},
   "source": [
    "# Simulação de maior escala\n",
    "\n",
    "A seguir apresentaremos nossa análise para uma simulação com uma escala maior, que se assemelhe a cidade de São Paulo. Neste experimento utilizaremos um mapa real da cidade de São Paulo e como referência viagens da pesquisa Origem-Destino do ano de 2007. No cenários de fechamento de rua, um acidente ocorre na Avenida Rebouças e as PMVs são posicionadas próximas a área do acidente.\n",
    "\n",
    "Nesta simulação executamos cinco cenários:\n",
    "\n",
    "- Sem o evento de fechamento de rua;\n",
    "\n",
    "- Com o evento de fechamento de rua mas sem o auxílio de PMVs;\n",
    "\n",
    "- Com o evento de fechamento de rua e auxílio de 2 PMVs;\n",
    "\n",
    "- Com o evento de fechamento de rua e auxílio de 4 PMVs;\n",
    "\n",
    "- Com o evento de fechamento de rua e auxílio de 6 PMVs.\n",
    "\n",
    "Executamos a simulação dos cenários vinte (20) vezes e construímos cinco conjuntos de dados (um por cenário) que continham a saída de todas essas rodadas de simulação. Ao final realizamos análises encima desses conjuntos de dados.\n",
    "\n",
    "## Entrada da Simulação\n",
    "\n",
    "A seguir descreveremos as duas entradas da simulação do cenário realístico: a descrição do mapa da cidade e a lista de viagens.\n",
    "\n",
    "### Mapa da Cidade\n",
    "\n",
    "Utilizamos o mapa da cidade de São Paulo como grafo a ser utilizado na simulação. O mapa é um arquivo `xml` construído à partir do mapa real da cidade disponível no Open Street Map.\n",
    "\n",
    "### Lista de Viagens\n",
    "\n",
    "Utilizamos todas as viagens da pesquisa Origem Destino do ano de 2007, mas reduzimos o número dessas viagens para 1/5 da frequência. Então, todas as viagens continuam ocorrendo, mas uma viagem que ocorre 1000 passa a ocorrer 200 vezes.\n",
    "No total, tivemos mais de **65000** viagens por round.\n",
    "\n",
    "### Paineis de Mensagem Variada (PMVs)\n",
    "\n",
    "Abaixo apresentamos os locais onde posicionamos as PMVs dos cenários simulados. As duas placas **de cor azul** foram utilizadas no cenário com 2 PMVs, as placas de **cor azul e verde** foram utilizadas no cenário com 4 PMVs e todas as placas (cores **azul, verde e vermelho**) foram utilizadas no cenário com 6 PMVs.\n",
    "\n",
    "![Mapa com PMVs](img/map.png)\n",
    "\n",
    "\n",
    "## Análise dos Dados\n",
    "\n",
    "Inicialmente, carregaremos os cinco conjuntos de dados (datasets).\n",
    "\n",
    "### Hipótese\n",
    "\n",
    "Abaixo comparamos os valores de distância média dos cinco cenários. A nossa hipótese era que o cenário sem o evento fosse o limite inferior e o cenário com o evento (e sem PMVs) o limite superior. Ou seja: o cenário sem o evento deveria ser o que os motoristas **demorassem menos** em seus trajetos, percorrendo **distâncias menores**, e o com o evento que **demorassem mais**, percorrendo **distâncias maiores**.\n",
    "\n",
    "Entre esses dois limiares esperávamos que ficassem os cenários com PMVs, onde com 2 e 4 PMVs uma diferença relevante com relação a não ter PMVs ocorresse, e 6 PMVs não impactasse tanto (possibilitando concluir que a adição das últimas duas placas não tivesse tanto proveito).\n",
    "\n",
    "### Resultados e Conclusões\n",
    "\n",
    "Inicialmente, carregaremos os cinco datasets gerados. Os datasets são os seguintes:\n",
    "\n",
    "- Dataset 1: O chamaremos de `non_events`, e apresenta uma simulação no cenário onde não ocorrem acidentes\n",
    "\n",
    "- Dataset 2: O chamaremos de `events`, e apresenta uma simulação no cenário onde ocorrem acidentes e não existem PMVs disponíveis\n",
    "\n",
    "- Dataset 3: O chamaremos de `events_pmv2`, e apresenta uma simulação no cenário onde ocorrem acidentes e existem dois PMVs\n",
    "\n",
    "- Dataset 4: O chamaremos de `events_pmv4`, e apresenta uma simulação no cenário onde ocorrem acidentes e existem quatro PMVs\n",
    "\n",
    "- Dataset 5: O chamaremos de `events_pmv6`, e apresenta uma simulação no cenário onde ocorrem acidentes e existem seis PMVs"
   ]
  },
  {
   "cell_type": "code",
   "execution_count": 3,
   "metadata": {},
   "outputs": [],
   "source": [
    "NON_EVENTS_DATASET_PATH = \"city_scale/datasets/baseline_scenario/output.csv\"\n",
    "EVENTS_DATASET_PATH = \"city_scale/datasets/events_scenario/output.csv\"\n",
    "EVENTS_2PMVS_DATASET_PATH = \"city_scale/datasets/pmv_2_scenario/output.csv\"\n",
    "EVENTS_4PMVS_DATASET_PATH = \"city_scale/datasets/pmv_4_scenario/output.csv\"\n",
    "EVENTS_6PMVS_DATASET_PATH = \"city_scale/datasets/pmv_6_scenario/output.csv\"\n",
    "\n",
    "\n",
    "non_events_df = (pd\n",
    "    .read_csv(NON_EVENTS_DATASET_PATH, delimiter=\";\", header=None, names=COLUMNS)\n",
    "    .assign(has_events=False)\n",
    "    .assign(pmvs=0))\n",
    "\n",
    "events_df = (pd\n",
    "    .read_csv(EVENTS_DATASET_PATH, delimiter=\";\", header=None, names=COLUMNS)\n",
    "    .assign(has_events=True)\n",
    "    .assign(pmvs=0))\n",
    "\n",
    "events_2pmvs_df = (pd\n",
    "    .read_csv(EVENTS_2PMVS_DATASET_PATH, delimiter=\";\", header=None, names=COLUMNS)\n",
    "    .assign(has_events=True)\n",
    "    .assign(pmvs=2))\n",
    "\n",
    "events_4pmvs_df = (pd\n",
    "    .read_csv(EVENTS_4PMVS_DATASET_PATH, delimiter=\";\", header=None, names=COLUMNS)\n",
    "    .assign(has_events=True)\n",
    "    .assign(pmvs=4))\n",
    "\n",
    "events_6pmvs_df = (pd\n",
    "    .read_csv(EVENTS_6PMVS_DATASET_PATH, delimiter=\";\", header=None, names=COLUMNS)\n",
    "    .assign(has_events=True)\n",
    "    .assign(pmvs=6))\n",
    "\n",
    "datasets = [non_events_df, events_df, events_2pmvs_df, events_4pmvs_df, events_6pmvs_df]"
   ]
  },
  {
   "cell_type": "markdown",
   "metadata": {},
   "source": [
    "Então, utilizamos somente as viagens que sofrem alguma alteração em suas durações (utilizamos o método `nunique` e reitramos os que apresentam apenas uma ocorrência, que indica que a duração nunca muda). Preenchemos um arranjo chamado `affected_trips` com a lista de viagens que tem durações variando em algum conjunto de dados."
   ]
  },
  {
   "cell_type": "code",
   "execution_count": 7,
   "metadata": {},
   "outputs": [
    {
     "name": "stdout",
     "output_type": "stream",
     "text": [
      "non_affected => 8069\n",
      "len affected trips => 2109\n"
     ]
    }
   ],
   "source": [
    "def count_durations_ocorrences(data):\n",
    "    return data.assign(ocrr=data.duration.nunique())[['ocrr', 'trip_id']].iloc[0]\n",
    "\n",
    "affected_trips = []\n",
    "\n",
    "for dataset in datasets:\n",
    "    df = (dataset\n",
    "     .groupby('trip_id')\n",
    "     .apply(count_durations_ocorrences))\n",
    "    \n",
    "    dataset_affected_trips = df[df.ocrr != 1].trip_id.values\n",
    "    \n",
    "    for trip in dataset_affected_trips:\n",
    "        affected_trips.append(trip)\n",
    "print(\"non_affected =>\", len(affected_trips))\n",
    "affected_trips = np.unique(affected_trips)\n",
    "print(\"len affected trips =>\", len(affected_trips))"
   ]
  },
  {
   "cell_type": "code",
   "execution_count": null,
   "metadata": {},
   "outputs": [],
   "source": []
  },
  {
   "cell_type": "code",
   "execution_count": 6,
   "metadata": {},
   "outputs": [
    {
     "data": {
      "text/plain": [
       "2109"
      ]
     },
     "execution_count": 6,
     "metadata": {},
     "output_type": "execute_result"
    }
   ],
   "source": [
    "len(affected_trips)"
   ]
  },
  {
   "cell_type": "code",
   "execution_count": 13,
   "metadata": {},
   "outputs": [],
   "source": [
    "v1 = non_events_df[non_events_df.trip_id.isin(affected_trips)].assign(scenario=\"Sem Evento\")\n",
    "v2 = events_df[events_df.trip_id.isin(affected_trips)].assign(scenario=\"Com Evento\")\n",
    "v3 = events_2pmvs_df[events_2pmvs_df.trip_id.isin(affected_trips)].assign(scenario=\"Com Evento e 2 PMVs\")\n",
    "v4 = events_4pmvs_df[events_4pmvs_df.trip_id.isin(affected_trips)].assign(scenario=\"Com Evento e 4 PMVs\")\n",
    "v5 = events_6pmvs_df[events_6pmvs_df.trip_id.isin(affected_trips)].assign(scenario=\"Com Evento e 6 PMVs\")\n",
    "\n",
    "# Troco os underscores (_) por pontos (.) pois utilizarei o LaTeX como engine gráfica\n",
    "v1 = (v1.assign(trip_id=lambda x: x.trip_id.str.replace(\"_\", \".\")))\n",
    "\n",
    "v2 = (v2.assign(trip_id=lambda x: x.trip_id.str.replace(\"_\", \".\")))\n",
    "\n",
    "v3 = (v3.assign(trip_id=lambda x: x.trip_id.str.replace(\"_\", \".\")))\n",
    "\n",
    "v4 = (v4.assign(trip_id=lambda x: x.trip_id.str.replace(\"_\", \".\")))\n",
    "\n",
    "v5 = (v5.assign(trip_id=lambda x: x.trip_id.str.replace(\"_\", \".\")))"
   ]
  },
  {
   "cell_type": "markdown",
   "metadata": {},
   "source": [
    "Em seguida, criamos um novo dataset com apenas as viagens afetadas (arranjo `affected_trips`) e o armazenamos no dataframe `affected_trips_df`. Só utilizaremos no passo a seguir os atributos `pmvs` e `duration`. "
   ]
  },
  {
   "cell_type": "code",
   "execution_count": 14,
   "metadata": {},
   "outputs": [],
   "source": [
    "affected_trips_df = v1.append(v2).append(v3).append(v4).append(v5)\n",
    "\n",
    "final_df = affected_trips_df[['scenario', 'duration']]"
   ]
  },
  {
   "cell_type": "markdown",
   "metadata": {},
   "source": [
    "Abaixo apresentamos as médias e desvios padrão de tempo de viagem entre os cinco conjuntos de dados. Os dados são relativamente próximos, o que não permite conclusões (a visualização não fica clara)."
   ]
  },
  {
   "cell_type": "code",
   "execution_count": 15,
   "metadata": {},
   "outputs": [
    {
     "name": "stderr",
     "output_type": "stream",
     "text": [
      "No handles with labels found to put in legend.\n"
     ]
    },
    {
     "data": {
      "image/png": "[encoded data removed]",
      "text/plain": [
       "<Figure size 1008x720 with 1 Axes>"
      ]
     },
     "metadata": {},
     "output_type": "display_data"
    }
   ],
   "source": [
    "rc('text', usetex=False)\n",
    "\n",
    "plt.figure(figsize=(14,10))\n",
    "\n",
    "ax = sns.barplot(data=final_df, x='scenario', y='duration')\n",
    "plt.legend(loc=\"best\",prop={\"size\":20})\n",
    "plt.title(\"Duração total das viagens\", size=25)\n",
    "sns.set(font_scale = 1.5)\n",
    "\n",
    "plt.show()"
   ]
  },
  {
   "cell_type": "markdown",
   "metadata": {},
   "source": [
    "Para facilitar a visualização dos dados anteriores, faremos a porcentagem da piora entre o cenário sem evento e os cenários com o evento (incluindo PMVs), pois sabemos que o cenário **sem evento** pode ser considerado mais rápido que os outros - dessa forma, o utilizaremos como **limite inferior**.\n",
    "\n",
    "Calculamos as médias dos diferentes cenários:"
   ]
  },
  {
   "cell_type": "code",
   "execution_count": 16,
   "metadata": {},
   "outputs": [
    {
     "data": {
      "text/plain": [
       "1313.7326247602216"
      ]
     },
     "execution_count": 16,
     "metadata": {},
     "output_type": "execute_result"
    }
   ],
   "source": [
    "lower_bound = v1.duration.mean()\n",
    "lower_bound"
   ]
  },
  {
   "cell_type": "code",
   "execution_count": 17,
   "metadata": {},
   "outputs": [],
   "source": [
    "v2_df = v2.duration.mean()\n",
    "v3_df = v3.duration.mean()\n",
    "v4_df = v4.duration.mean()\n",
    "v5_df = v5.duration.mean()"
   ]
  },
  {
   "cell_type": "markdown",
   "metadata": {},
   "source": [
    "Então, calculamos a porcentagem com relação aos outros cenários; armazenamos em:\n",
    "\n",
    "- `p1` a diferença de porcentagem entre o cenário **com o evento** e **sem o evento**\n",
    "\n",
    "- `p2` a diferença de porcentagem entre o cenário **com o evento e 2 PMVs** e **sem o evento**\n",
    "\n",
    "- `p3` a diferença de porcentagem entre o cenário **com o evento e 4 PMVs** e **sem o evento**\n",
    "\n",
    "- `p4` a diferença de porcentagem entre o cenário **com o evento e 6 PMVs** e **sem o evento**"
   ]
  },
  {
   "cell_type": "code",
   "execution_count": 18,
   "metadata": {},
   "outputs": [],
   "source": [
    "p1 = ((v2_df/lower_bound) -1)*100\n",
    "p2 = ((v3_df/lower_bound) -1)*100\n",
    "p3 = ((v4_df/lower_bound) -1)*100\n",
    "p4 = ((v5_df/lower_bound) -1)*100"
   ]
  },
  {
   "cell_type": "markdown",
   "metadata": {},
   "source": [
    "Por fim, montamos um `DataFrame` resultante com as diferenças percentuais."
   ]
  },
  {
   "cell_type": "code",
   "execution_count": 19,
   "metadata": {},
   "outputs": [],
   "source": [
    "raw_data = {\n",
    "    '%': [p1, p2, p3, p4],\n",
    "    'scenario': ['Com Evento', 'Com 2 PMVs', 'Com 4 PMVs', 'Com 6 PMVs']\n",
    "}\n",
    "\n",
    "df = pd.DataFrame(raw_data, columns = ['%', 'scenario'])"
   ]
  },
  {
   "cell_type": "markdown",
   "metadata": {},
   "source": [
    "E apresentamos com um gráfico de barras a seguir."
   ]
  },
  {
   "cell_type": "code",
   "execution_count": 20,
   "metadata": {},
   "outputs": [
    {
     "data": {
      "text/plain": [
       "<matplotlib.axes._subplots.AxesSubplot at 0x7f7effbc53c8>"
      ]
     },
     "execution_count": 20,
     "metadata": {},
     "output_type": "execute_result"
    },
    {
     "data": {
      "image/png": "[encoded data removed]",
      "text/plain": [
       "<Figure size 1008x720 with 1 Axes>"
      ]
     },
     "metadata": {},
     "output_type": "display_data"
    }
   ],
   "source": [
    "plt.figure(figsize=(14,10))\n",
    "\n",
    "sns.barplot(data=df, x='%', y='scenario')"
   ]
  },
  {
   "cell_type": "markdown",
   "metadata": {},
   "source": [
    "A partir dos resultados, observamos os seguintes fatos:\n",
    "\n",
    "- A diferença entre os diferentes resultados não foi relevante (um dos gráficos, por exemplo, não possibilitou diferenciar os tempos de duração entre os diferentes cenários) - acreditamos que faça sentido pois os acidentes são sempre em um único ponto bem específico da cidade, mas as viagens ocorrem por toda a cidade, não sendo afetadas\n",
    "\n",
    "- O fato de todos os valores serem positivos indica que o cenário sem o evento é, de fato, o limite inferior\n",
    "\n",
    "- O cenário **com o evento e sem PMVs** apresentou duração menor que com **o evento e 4 PMVs**, não podendo ser um limite superior, o que nega uma de nossas hipóteses\n",
    "\n",
    "- O cenário **com o evento e 4 PMVs** foi o que teve a maior duração em média, o que não esperávamos. Atribuímos esse resultado ao mal posicionamento das placas nesse cenário (placas verdes e azuis). Pelo fato das placas estarem muito próximas, tivemos em grande parte viagens que tiveram seu caminho **recalculado várias vezes** (cada placa alerta veículos sempre que uma rua em seu percurso está mais lenta que o normal), e o constante recálculo de trajeto aumenta a duração total. O novo caminho recalculado pode continuar tendo PMVs, o que acarreta em um novo recálculo de caminho.\n",
    "\n",
    "- O cenário **com o evento e 6 PMVs** teve boa melhora em relação aos outros cenários, o que nega outra hipótese nossa. Isso ocorreu porque o posicionamento das placas **de cor vermelha** favorece a notificação, por estar localizada em um extremo da via de acidentes, evitando a aproximação do caminho do veículo e outros PMVs, diminuindo a quantidade de vezes que o caminho é recalculado.\n",
    "\n",
    "Identificamos as seguintes limitações neste experimento:\n",
    "\n",
    "- Devido a utilização de um único evento de fechamento de rua e em um lugar específico, a visualização do impacto de uso de PMVs foi prejudicada\n",
    "\n",
    "- Devido ao posicionamento não-ótimo de algumas placas, o resultado final não foi ideal (mas nos ajudou a concluir que o posicionamento das placas têm grande influência)\n",
    "\n",
    "- Fatores externos (como qualidade da rede, recursos computacionais disponíveis, dentre outros) afetaram os resultados\n",
    "\n",
    "- Analisamos as viagens que ocorrem durante toda a cidade de São Paulo, mas o evento é em um ponto específico da cidade. Seria melhor se tivéssemos como filtrar as viagens que não são da região, de modo que usássemos somente viagens próximas ao evento\n",
    "\n",
    "Com as discussões apresentadas, concluímos que:\n",
    "\n",
    "- A localização dos PMVs está fortemente correlacionado com o quanto a duração da viagem vai ser melhorada ou não. Placas muito próximas podem ter efeito contrário\n",
    "\n",
    "- De maneira geral, entendemos que a utilização de PMVs não afeta substancialmente o trânsito da cidade. Contudo, em casos onde os eventos que causam fechamento de rua ocorrem frequentemente em uma mesma região e as placas sejam muito bem localizadas ao seu redor."
   ]
  }
 ],
 "metadata": {
  "kernelspec": {
   "display_name": "Python 3",
   "language": "python",
   "name": "python3"
  },
  "language_info": {
   "codemirror_mode": {
    "name": "ipython",
    "version": 3
   },
   "file_extension": ".py",
   "mimetype": "text/x-python",
   "name": "python",
   "nbconvert_exporter": "python",
   "pygments_lexer": "ipython3",
   "version": "3.6.5"
  }
 },
 "nbformat": 4,
 "nbformat_minor": 2
}
