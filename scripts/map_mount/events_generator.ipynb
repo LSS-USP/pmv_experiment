{
 "cells": [
  {
   "cell_type": "code",
   "execution_count": 2,
   "metadata": {},
   "outputs": [],
   "source": [
    "from xml.dom import minidom\n",
    "import numpy as np\n",
    "import geopy.distance\n",
    "import pandas as pd\n",
    "\n",
    "# Query feita:\n",
    "\"\"\"\n",
    "<query type=\"way\">\n",
    "    <around lat=\"-23.5585875\" lon=\"-46.6686528\" radius=\"500\" />\n",
    "    <has-kv k=\"highway\"/>\n",
    "  \t<has-kv k=\"oneway\"/>\n",
    "  \t<has-kv k=\"maxspeed\"/>\n",
    "</query>\n",
    "<union>\n",
    "  <item/>\n",
    "  <recurse type=\"down\"/>\n",
    "</union>\n",
    "<print>\n",
    "</print>\n",
    "\"\"\"\n",
    "\n",
    "EVENTS_OVERPASS_MAP_PATH = \"events_edges_overpass_query\"\n",
    "MAP_COMPLETE_OVERPASS_MAP_PATH = \"map_complete_edges_overpass_query\"\n",
    "events_xml = minidom.parse(EVENTS_OVERPASS_MAP_PATH)\n",
    "map_xml = minidom.parse(MAP_COMPLETE_OVERPASS_MAP_PATH)"
   ]
  },
  {
   "cell_type": "markdown",
   "metadata": {},
   "source": [
    "# Arestas que sofrerão eventos de fechamento\n",
    "\n",
    "![Mapa com Arestas Utilizado](events_edges_map.png)"
   ]
  },
  {
   "cell_type": "code",
   "execution_count": 4,
   "metadata": {},
   "outputs": [],
   "source": [
    "def chunk_nodes(nodes):\n",
    "    \"\"\"\n",
    "    Usage:\n",
    "    > chunk_nodes([1,2,3,4,5])\n",
    "    [(1, 2), (2, 3), (3, 4), (4, 5)]\n",
    "    \"\"\"\n",
    "    list1 = list(nodes)[:-1]\n",
    "    list2 = list(nodes)[1:]\n",
    "    \n",
    "    return list(zip(list1, list2))"
   ]
  },
  {
   "cell_type": "code",
   "execution_count": 5,
   "metadata": {},
   "outputs": [],
   "source": [
    "events_ways_tag = events_xml.getElementsByTagName('way')\n",
    "map_ways_tag = map_xml.getElementsByTagName('way')\n",
    "\n",
    "events_nodes_tags = events_xml.getElementsByTagName('node')\n",
    "map_nodes_tags = events_xml.getElementsByTagName('node')\n",
    "\n",
    "events_nodes = {}\n",
    "events_edges = []\n",
    "map_nodes = {}\n",
    "map_edges = {}"
   ]
  },
  {
   "cell_type": "code",
   "execution_count": 6,
   "metadata": {},
   "outputs": [],
   "source": [
    "for n in map_nodes_tags:\n",
    "    map_nodes[int(n.getAttribute('id'))] = (float(n.getAttribute('lat')), float(n.getAttribute('lon')))\n",
    "    \n",
    "for n in events_nodes_tags:\n",
    "    events_nodes[int(n.getAttribute('id'))] = (float(n.getAttribute('lat')), float(n.getAttribute('lon')))"
   ]
  },
  {
   "cell_type": "code",
   "execution_count": 7,
   "metadata": {},
   "outputs": [],
   "source": [
    "for w in events_ways_tag:\n",
    "    events_edges.append(int(w.getAttribute('id')))"
   ]
  },
  {
   "cell_type": "code",
   "execution_count": 8,
   "metadata": {},
   "outputs": [],
   "source": [
    "events_edges_related = []"
   ]
  },
  {
   "cell_type": "code",
   "execution_count": 9,
   "metadata": {},
   "outputs": [],
   "source": [
    "highest = 0\n",
    "counter = 1\n",
    "for w in map_ways_tag:\n",
    "    tags = w.getElementsByTagName('tag')\n",
    "    width = 2\n",
    "    maxspeed = 0\n",
    "    oneway = 1\n",
    "    \n",
    "    for t in tags:\n",
    "        key = t.getAttribute('k')\n",
    "        value = t.getAttribute('v')\n",
    "        \n",
    "        if (key == 'width'):\n",
    "            width = float(value)\n",
    "        elif (key == 'maxspeed'):\n",
    "            maxspeed = int(value)/3.6\n",
    "        elif (key == 'oneway'):\n",
    "            oneway = 1 if (value == 'yes') else 0\n",
    "    \n",
    "    chunks = chunk_nodes(w.getElementsByTagName('nd'))\n",
    "    for chunk in chunks:\n",
    "        n1 = chunk[0].getAttribute('ref')\n",
    "        n2 = chunk[1].getAttribute('ref')\n",
    "        if (int(w.getAttribute('id')) in events_edges):\n",
    "            events_edges_related.append([w.getAttribute('id'), n1, n2, counter])\n",
    "        counter += 1"
   ]
  },
  {
   "cell_type": "code",
   "execution_count": 10,
   "metadata": {},
   "outputs": [],
   "source": [
    "df = pd.DataFrame(columns=[\"type\", \"from\", \"to\", \"start_tick\", \"duration\", \"slowdown\"])\n",
    "counter = 0\n",
    "\n",
    "for e in events_edges_related:\n",
    "    df.loc[counter] = [\"close_street\", e[1], e[2], 1, 1100, 0]\n",
    "    counter += 1"
   ]
  },
  {
   "cell_type": "code",
   "execution_count": 11,
   "metadata": {},
   "outputs": [],
   "source": [
    "df.to_csv(\"events.csv\", header=False, sep=\";\", index=False)"
   ]
  }
 ],
 "metadata": {
  "kernelspec": {
   "display_name": "Python 3",
   "language": "python",
   "name": "python3"
  },
  "language_info": {
   "codemirror_mode": {
    "name": "ipython",
    "version": 3
   },
   "file_extension": ".py",
   "mimetype": "text/x-python",
   "name": "python",
   "nbconvert_exporter": "python",
   "pygments_lexer": "ipython3",
   "version": "3.6.5"
  }
 },
 "nbformat": 4,
 "nbformat_minor": 2
}
