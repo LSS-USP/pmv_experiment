{
 "cells": [
  {
   "cell_type": "code",
   "execution_count": 1,
   "metadata": {},
   "outputs": [],
   "source": [
    "from xml.dom import minidom\n",
    "import numpy as np\n",
    "import geopy.distance\n",
    "\n",
    "\n",
    "# Query feita:\n",
    "\"\"\"\n",
    "<query type=\"way\">\n",
    "    <around lat=\"-23.5585875\" lon=\"-46.6686528\" radius=\"5000\" />\n",
    "    <has-kv k=\"highway\"/>\n",
    "  \t<has-kv k=\"oneway\"/>\n",
    "  \t<has-kv k=\"maxspeed\"/>\n",
    "</query>\n",
    "<union>\n",
    "  <item/>\n",
    "  <recurse type=\"down\"/>\n",
    "</union>\n",
    "<print>\n",
    "</print>\n",
    "\"\"\"\n",
    "\n",
    "MAP_COMPLETE_OVERPASS_MAP_PATH = \"map_complete_edges_overpass_query\"\n",
    "dom = minidom.parse(MAP_COMPLETE_OVERPASS_MAP_PATH)"
   ]
  },
  {
   "cell_type": "markdown",
   "metadata": {},
   "source": [
    "# Mapa Gerado\n",
    "\n",
    "![Mapa com Arestas Utilizado](map_complete_edges_map.png)"
   ]
  },
  {
   "cell_type": "code",
   "execution_count": 2,
   "metadata": {},
   "outputs": [],
   "source": [
    "def chunk_nodes(nodes):\n",
    "    \"\"\"\n",
    "    Usage:\n",
    "    > chunk_nodes([1,2,3,4,5])\n",
    "    [(1, 2), (2, 3), (3, 4), (4, 5)]\n",
    "    \"\"\"\n",
    "    list1 = list(nodes)[:-1]\n",
    "    list2 = list(nodes)[1:]\n",
    "    \n",
    "    return list(zip(list1, list2))"
   ]
  },
  {
   "cell_type": "code",
   "execution_count": 3,
   "metadata": {},
   "outputs": [],
   "source": [
    "ways = dom.getElementsByTagName('way')\n",
    "nodes_tags = dom.getElementsByTagName('node')\n",
    "nodes = {}\n",
    "edges = {}"
   ]
  },
  {
   "cell_type": "code",
   "execution_count": 4,
   "metadata": {},
   "outputs": [],
   "source": [
    "def calculate_distance(node1, node2):\n",
    "    return geopy.distance.vincenty(nodes[node1], nodes[node2]).m"
   ]
  },
  {
   "cell_type": "code",
   "execution_count": 5,
   "metadata": {},
   "outputs": [],
   "source": [
    "for n in nodes_tags:\n",
    "    nodes[int(n.getAttribute('id'))] = (float(n.getAttribute('lat')), float(n.getAttribute('lon')))"
   ]
  },
  {
   "cell_type": "code",
   "execution_count": 6,
   "metadata": {},
   "outputs": [],
   "source": [
    "highest = 0\n",
    "counter = 1\n",
    "for w in ways:\n",
    "    tags = w.getElementsByTagName('tag')\n",
    "    width = 2\n",
    "    maxspeed = 0\n",
    "    oneway = 1\n",
    "    \n",
    "    for t in tags:\n",
    "        key = t.getAttribute('k')\n",
    "        value = t.getAttribute('v')\n",
    "        \n",
    "        if (key == 'width'):\n",
    "            width = float(value)\n",
    "        elif (key == 'maxspeed'):\n",
    "            maxspeed = int(value)/3.6\n",
    "        elif (key == 'oneway'):\n",
    "            oneway = 0\n",
    "    \n",
    "    chunks = chunk_nodes(w.getElementsByTagName('nd'))\n",
    "    for chunk in chunks:\n",
    "        n1 = chunk[0].getAttribute('ref')\n",
    "        n2 = chunk[1].getAttribute('ref')\n",
    "        \n",
    "        length = calculate_distance(int(n1), int(n2))\n",
    "        edge = {\n",
    "            'freespeed': maxspeed,\n",
    "            'length': length,\n",
    "            'capacity': width*length,\n",
    "            'from': int(n1),\n",
    "            'to': int(n2),\n",
    "            'oneway': oneway,\n",
    "            'modes': 'car',\n",
    "            'origid': int(w.getAttribute('id')),\n",
    "            'type': 'residential'\n",
    "        }\n",
    "        edges[counter] = edge\n",
    "        \n",
    "        edge = {\n",
    "            'freespeed': maxspeed,\n",
    "            'length': length,\n",
    "            'capacity': width*length,\n",
    "            'from': int(n2),\n",
    "            'to': int(n1),\n",
    "            'oneway': oneway,\n",
    "            'modes': 'car',\n",
    "            'origid': int(w.getAttribute('id')),\n",
    "            'type': 'residential'\n",
    "        }\n",
    "        counter += 1\n",
    "        edges[counter] = edge\n",
    "        counter += 1"
   ]
  },
  {
   "cell_type": "code",
   "execution_count": 7,
   "metadata": {},
   "outputs": [],
   "source": [
    "import lxml.etree\n",
    "import lxml.builder\n",
    "from lxml import etree as ET\n",
    "\n",
    "root_et = ET.Element('network')\n",
    "nodes_et = ET.SubElement(root_et, 'nodes')\n",
    "links_et = ET.SubElement(root_et, 'links')\n",
    "\n",
    "for node_id, attrs in nodes.items():\n",
    "    ET.SubElement(nodes_et, 'node', id=str(node_id), x=str(attrs[0]), y=str(attrs[1]))\n",
    "\n",
    "\n",
    "for link_id, attrs in edges.items():\n",
    "    ele = ET.SubElement(links_et, 'link',\n",
    "                    id=str(link_id),\n",
    "                  capacity=str(attrs[\"capacity\"]),\n",
    "                  freespeed=str(attrs[\"freespeed\"]),\n",
    "                  to=str(attrs[\"to\"]),\n",
    "                  length=str(attrs[\"length\"]),\n",
    "                  modes=str(attrs[\"modes\"]),\n",
    "                  oneway=str(attrs[\"oneway\"]),\n",
    "                    origid=str(attrs[\"origid\"]),\n",
    "                type=str(attrs[\"type\"]))\n",
    "    ele.set('from', str(attrs[\"from\"]))\n",
    "    \n",
    "  \n",
    "tree = ET.ElementTree(root_et)\n",
    "# tree.write('map_complete.xml', pretty_print=True, xml_declaration=True,   encoding=\"utf-8\")"
   ]
  },
  {
   "cell_type": "code",
   "execution_count": 9,
   "metadata": {},
   "outputs": [
    {
     "data": {
      "text/plain": [
       "26102"
      ]
     },
     "execution_count": 9,
     "metadata": {},
     "output_type": "execute_result"
    }
   ],
   "source": [
    "len(edges)"
   ]
  }
 ],
 "metadata": {
  "kernelspec": {
   "display_name": "Python 3",
   "language": "python",
   "name": "python3"
  },
  "language_info": {
   "codemirror_mode": {
    "name": "ipython",
    "version": 3
   },
   "file_extension": ".py",
   "mimetype": "text/x-python",
   "name": "python",
   "nbconvert_exporter": "python",
   "pygments_lexer": "ipython3",
   "version": "3.6.5"
  }
 },
 "nbformat": 4,
 "nbformat_minor": 2
}
