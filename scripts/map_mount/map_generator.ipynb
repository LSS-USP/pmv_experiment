{
 "cells": [
  {
   "cell_type": "code",
   "execution_count": 89,
   "metadata": {},
   "outputs": [],
   "source": [
    "from xml.dom import minidom\n",
    "import numpy as np\n",
    "import geopy.distance"
   ]
  },
  {
   "cell_type": "code",
   "execution_count": 63,
   "metadata": {},
   "outputs": [],
   "source": [
    "def chunk_nodes(nodes):\n",
    "    list1 = list(nodes)[:-1]\n",
    "    list2 = list(nodes)[1:]\n",
    "    \n",
    "    return list(zip(list1, list2))"
   ]
  },
  {
   "cell_type": "code",
   "execution_count": 23,
   "metadata": {},
   "outputs": [],
   "source": [
    "dom = minidom.parse(\"interpreter\")"
   ]
  },
  {
   "cell_type": "code",
   "execution_count": 72,
   "metadata": {},
   "outputs": [],
   "source": [
    "ways = dom.getElementsByTagName('way')\n",
    "nodes_tags = dom.getElementsByTagName('node')\n",
    "nodes = {}\n",
    "edges = {}"
   ]
  },
  {
   "cell_type": "code",
   "execution_count": 97,
   "metadata": {},
   "outputs": [],
   "source": [
    "def calculate_distance(node1, node2):\n",
    "    return geopy.distance.vincenty(nodes[node1], nodes[node2]).m"
   ]
  },
  {
   "cell_type": "code",
   "execution_count": 86,
   "metadata": {},
   "outputs": [],
   "source": [
    "for n in nodes_tags:\n",
    "    nodes[int(n.getAttribute('id'))] = (float(n.getAttribute('lat')), float(n.getAttribute('lon')))"
   ]
  },
  {
   "cell_type": "code",
   "execution_count": 102,
   "metadata": {},
   "outputs": [],
   "source": [
    "highest = 0\n",
    "counter = 1\n",
    "for w in ways:\n",
    "    tags = w.getElementsByTagName('tag')\n",
    "    width = 2\n",
    "    maxspeed = 0\n",
    "    oneway = 1\n",
    "    \n",
    "    for t in tags:\n",
    "        key = t.getAttribute('k')\n",
    "        value = t.getAttribute('v')\n",
    "        \n",
    "        if (key == 'width'):\n",
    "            width = float(value)\n",
    "        elif (key == 'maxspeed'):\n",
    "            maxspeed = int(value)/3.6\n",
    "        elif (key == 'oneway'):\n",
    "            oneway = 1 if (value == 'yes') else 0\n",
    "    \n",
    "    chunks = chunk_nodes(w.getElementsByTagName('nd'))\n",
    "    for chunk in chunks:\n",
    "        n1 = chunk[0].getAttribute('ref')\n",
    "        n2 = chunk[1].getAttribute('ref')\n",
    "        \n",
    "        length = calculate_distance(int(n1), int(n2))\n",
    "        edge = {\n",
    "            'freespeed': maxspeed,\n",
    "            'length': length,\n",
    "            'capacity': width*length,\n",
    "            'from': int(n1),\n",
    "            'to': int(n2),\n",
    "            'oneway': oneway,\n",
    "            'modes': 'car',\n",
    "            'origid': int(w.getAttribute('id')),\n",
    "            'type': 'residential'\n",
    "        }\n",
    "        edges[counter] = edge\n",
    "        counter += 1"
   ]
  },
  {
   "cell_type": "code",
   "execution_count": 136,
   "metadata": {},
   "outputs": [],
   "source": [
    "import lxml.etree\n",
    "import lxml.builder\n",
    "from lxml import etree as ET\n",
    "\n",
    "root_et = ET.Element('network')\n",
    "nodes_et = ET.SubElement(root_et, 'nodes')\n",
    "links_et = ET.SubElement(root_et, 'links')\n",
    "\n",
    "for node_id, attrs in nodes.items():\n",
    "    ET.SubElement(nodes_et, 'node', id=str(node_id), x=str(attrs[0]), y=str(attrs[1]))\n",
    "\n",
    "\n",
    "for link_id, attrs in edges.items():\n",
    "    ele = ET.SubElement(links_et, 'link',\n",
    "                    id=str(link_id),\n",
    "                  capacity=str(attrs[\"capacity\"]),\n",
    "                  freespeed=str(attrs[\"freespeed\"]),\n",
    "                  to=str(attrs[\"to\"]),\n",
    "                  length=str(attrs[\"length\"]),\n",
    "                  modes=str(attrs[\"modes\"]),\n",
    "                  oneway=str(attrs[\"oneway\"]),\n",
    "                    origid=str(attrs[\"origid\"]),\n",
    "                type=str(attrs[\"type\"]))\n",
    "    ele.set('from', str(attrs[\"from\"]))\n",
    "    \n",
    "  \n",
    "tree = ET.ElementTree(root_et)\n",
    "tree.write('output.xml', pretty_print=True, xml_declaration=True,   encoding=\"utf-8\")"
   ]
  }
 ],
 "metadata": {
  "kernelspec": {
   "display_name": "Python 3",
   "language": "python",
   "name": "python3"
  },
  "language_info": {
   "codemirror_mode": {
    "name": "ipython",
    "version": 3
   },
   "file_extension": ".py",
   "mimetype": "text/x-python",
   "name": "python",
   "nbconvert_exporter": "python",
   "pygments_lexer": "ipython3",
   "version": "3.6.5"
  }
 },
 "nbformat": 4,
 "nbformat_minor": 2
}
