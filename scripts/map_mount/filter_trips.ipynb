{
 "cells": [
  {
   "cell_type": "code",
   "execution_count": 67,
   "metadata": {},
   "outputs": [],
   "source": [
    "from xml.dom import minidom\n",
    "import numpy as np\n",
    "import geopy.distance\n",
    "import pandas as pd\n",
    "import xml.etree.ElementTree as ET\n",
    "import uuid\n",
    "import matplotlib.pyplot as plt\n",
    "\n",
    "\n",
    "TRIPS_COMPLETE_PATH = \"trips_completo.xml\"\n",
    "\n",
    "tree = ET.parse(TRIPS_COMPLETE_PATH)\n",
    "trips = tree.getroot()"
   ]
  },
  {
   "cell_type": "code",
   "execution_count": 68,
   "metadata": {},
   "outputs": [],
   "source": [
    "selected_trips = []\n",
    "edges = {}"
   ]
  },
  {
   "cell_type": "code",
   "execution_count": 69,
   "metadata": {},
   "outputs": [],
   "source": [
    "def load_nodes(path):\n",
    "    nodes = []\n",
    "    events_xml = minidom.parse(path)\n",
    "    map_nodes_tags = events_xml.getElementsByTagName('node')\n",
    "    for n in map_nodes_tags:\n",
    "        nodes.append(int(n.getAttribute('id')))\n",
    "    return nodes\n",
    "\n",
    "def load_edges(path):\n",
    "    map_xml = minidom.parse(path)\n",
    "    map_links_tags = map_xml.getElementsByTagName('link')\n",
    "    for n in map_links_tags:\n",
    "        edges[int(n.getAttribute('id'))] = [\n",
    "            int(n.getAttribute('from')),\n",
    "            int(n.getAttribute('to'))\n",
    "        ]\n"
   ]
  },
  {
   "cell_type": "code",
   "execution_count": 70,
   "metadata": {},
   "outputs": [],
   "source": [
    "nodes = load_nodes('map_complete.xml')\n",
    "load_edges('map_complete.xml')"
   ]
  },
  {
   "cell_type": "code",
   "execution_count": 71,
   "metadata": {},
   "outputs": [],
   "source": [
    "def find_start_link(origin, destination):\n",
    "    for k, e in edges.items():\n",
    "        if (e[0] == origin):\n",
    "            return k\n",
    "    return -1"
   ]
  },
  {
   "cell_type": "code",
   "execution_count": 72,
   "metadata": {},
   "outputs": [],
   "source": [
    "for trip in trips.iter('trip'):\n",
    "    origin = int(trip.attrib['origin'])\n",
    "    destination = int(trip.attrib['destination'])\n",
    "    if (origin in nodes and destination in nodes):\n",
    "        selected_trips.append(trip)"
   ]
  },
  {
   "cell_type": "code",
   "execution_count": 73,
   "metadata": {},
   "outputs": [],
   "source": [
    "df = pd.DataFrame(columns=[\"name\", \"origin\", \"destination\", \"link_origin\", \"count\", \"start\", \"mode\", \"uuid\"])"
   ]
  },
  {
   "cell_type": "code",
   "execution_count": 74,
   "metadata": {},
   "outputs": [],
   "source": [
    "counter = 0\n",
    "for s in selected_trips:\n",
    "    origin = int(s.attrib['origin'])\n",
    "    destination = int(s.attrib['destination'])\n",
    "    link_origin = int(find_start_link(origin, destination))\n",
    "    \n",
    "    if (link_origin == -1):\n",
    "        continue\n",
    "    \n",
    "    name = s.attrib['name']\n",
    "\n",
    "    old_count = int(s.attrib['count'])\n",
    "    start = int(s.attrib['start'])\n",
    "    mode = s.attrib['mode']\n",
    "    uuid_trip = 'a'\n",
    "    df.loc[counter] = [name, origin, destination, link_origin, old_count, start, mode, uuid_trip]\n",
    "    counter += 1"
   ]
  },
  {
   "cell_type": "code",
   "execution_count": 75,
   "metadata": {},
   "outputs": [],
   "source": [
    "df = df[(df.start >= 28800) & (df.start <= 30000)]"
   ]
  },
  {
   "cell_type": "code",
   "execution_count": 76,
   "metadata": {},
   "outputs": [],
   "source": [
    "df.start = df.start - 28800"
   ]
  },
  {
   "cell_type": "code",
   "execution_count": 77,
   "metadata": {},
   "outputs": [],
   "source": [
    "final_df = pd.DataFrame(columns=[\"name\", \"origin\", \"destination\", \"link_origin\", \"count\", \"start\", \"mode\", \"uuid\"])    "
   ]
  },
  {
   "cell_type": "code",
   "execution_count": 78,
   "metadata": {},
   "outputs": [
    {
     "data": {
      "text/html": [
       "<div>\n",
       "<style>\n",
       "    .dataframe thead tr:only-child th {\n",
       "        text-align: right;\n",
       "    }\n",
       "\n",
       "    .dataframe thead th {\n",
       "        text-align: left;\n",
       "    }\n",
       "\n",
       "    .dataframe tbody tr th {\n",
       "        vertical-align: top;\n",
       "    }\n",
       "</style>\n",
       "<table border=\"1\" class=\"dataframe\">\n",
       "  <thead>\n",
       "    <tr style=\"text-align: right;\">\n",
       "      <th></th>\n",
       "      <th>name</th>\n",
       "      <th>origin</th>\n",
       "      <th>destination</th>\n",
       "      <th>link_origin</th>\n",
       "      <th>count</th>\n",
       "      <th>start</th>\n",
       "      <th>mode</th>\n",
       "      <th>uuid</th>\n",
       "    </tr>\n",
       "  </thead>\n",
       "  <tbody>\n",
       "    <tr>\n",
       "      <th>count</th>\n",
       "      <td>50</td>\n",
       "      <td>50</td>\n",
       "      <td>50</td>\n",
       "      <td>50</td>\n",
       "      <td>50</td>\n",
       "      <td>50</td>\n",
       "      <td>50</td>\n",
       "      <td>50</td>\n",
       "    </tr>\n",
       "    <tr>\n",
       "      <th>unique</th>\n",
       "      <td>50</td>\n",
       "      <td>46</td>\n",
       "      <td>46</td>\n",
       "      <td>46</td>\n",
       "      <td>30</td>\n",
       "      <td>4</td>\n",
       "      <td>1</td>\n",
       "      <td>1</td>\n",
       "    </tr>\n",
       "    <tr>\n",
       "      <th>top</th>\n",
       "      <td>7736</td>\n",
       "      <td>303987727</td>\n",
       "      <td>165459105</td>\n",
       "      <td>2150</td>\n",
       "      <td>23</td>\n",
       "      <td>1</td>\n",
       "      <td>car</td>\n",
       "      <td>a</td>\n",
       "    </tr>\n",
       "    <tr>\n",
       "      <th>freq</th>\n",
       "      <td>1</td>\n",
       "      <td>4</td>\n",
       "      <td>2</td>\n",
       "      <td>4</td>\n",
       "      <td>8</td>\n",
       "      <td>43</td>\n",
       "      <td>50</td>\n",
       "      <td>50</td>\n",
       "    </tr>\n",
       "  </tbody>\n",
       "</table>\n",
       "</div>"
      ],
      "text/plain": [
       "        name     origin  destination  link_origin  count  start mode uuid\n",
       "count     50         50           50           50     50     50   50   50\n",
       "unique    50         46           46           46     30      4    1    1\n",
       "top     7736  303987727    165459105         2150     23      1  car    a\n",
       "freq       1          4            2            4      8     43   50   50"
      ]
     },
     "execution_count": 78,
     "metadata": {},
     "output_type": "execute_result"
    }
   ],
   "source": [
    "df.describe()"
   ]
  },
  {
   "cell_type": "code",
   "execution_count": 79,
   "metadata": {},
   "outputs": [],
   "source": [
    "counter = 0\n",
    "for row in df.iterrows():\n",
    "    access = row[1]\n",
    "    repeat = access['count']\n",
    "    for v in range(1, repeat):    \n",
    "        final_df.loc[counter] = [\n",
    "            counter,\n",
    "            access['origin'],\n",
    "            access['destination'],\n",
    "            access['link_origin'],\n",
    "            1,\n",
    "            access['start'],\n",
    "            access['mode'],\n",
    "            uuid.uuid4()\n",
    "        ]\n",
    "        counter += 1"
   ]
  },
  {
   "cell_type": "code",
   "execution_count": 82,
   "metadata": {},
   "outputs": [],
   "source": [
    "final_df.to_csv('trips-with-uuid.csv', header=False, sep=';', index=False)"
   ]
  }
 ],
 "metadata": {
  "kernelspec": {
   "display_name": "Python 3",
   "language": "python",
   "name": "python3"
  },
  "language_info": {
   "codemirror_mode": {
    "name": "ipython",
    "version": 3
   },
   "file_extension": ".py",
   "mimetype": "text/x-python",
   "name": "python",
   "nbconvert_exporter": "python",
   "pygments_lexer": "ipython3",
   "version": "3.6.5"
  }
 },
 "nbformat": 4,
 "nbformat_minor": 2
}
