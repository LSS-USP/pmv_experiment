{
 "cells": [
  {
   "cell_type": "code",
   "execution_count": 106,
   "metadata": {},
   "outputs": [],
   "source": [
    "from xml.dom import minidom\n",
    "import numpy as np\n",
    "import geopy.distance\n",
    "import pandas as pd\n",
    "import xml.etree.ElementTree as ET\n",
    "import uuid\n",
    "import matplotlib.pyplot as plt\n",
    "\n",
    "COLUMNS = [\"type\", \"from\", \"to\", \"start_tick\", \"duration\", \"slowdown\"]\n",
    "TRIPS_COMPLETE_PATH = \"trips_completo.xml\"\n",
    "\n",
    "tree = ET.parse(TRIPS_COMPLETE_PATH)\n",
    "trips = tree.getroot()"
   ]
  },
  {
   "cell_type": "code",
   "execution_count": 107,
   "metadata": {},
   "outputs": [],
   "source": [
    "selected_trips = []\n",
    "edges = {}"
   ]
  },
  {
   "cell_type": "code",
   "execution_count": 108,
   "metadata": {},
   "outputs": [],
   "source": [
    "df = pd.read_csv('events.csv', sep=';', names=COLUMNS)\n",
    "forbidden_nodes = []"
   ]
  },
  {
   "cell_type": "code",
   "execution_count": 109,
   "metadata": {},
   "outputs": [],
   "source": [
    "forbidden_nodes.append(df['from'].unique())\n",
    "forbidden_nodes.append(df['to'].unique())"
   ]
  },
  {
   "cell_type": "code",
   "execution_count": 110,
   "metadata": {},
   "outputs": [],
   "source": [
    "forbidden_nodes = np.array(forbidden_nodes).flatten()"
   ]
  },
  {
   "cell_type": "code",
   "execution_count": 111,
   "metadata": {},
   "outputs": [],
   "source": [
    "def load_nodes(path):\n",
    "    nodes = []\n",
    "    events_xml = minidom.parse(path)\n",
    "    map_nodes_tags = events_xml.getElementsByTagName('node')\n",
    "    for n in map_nodes_tags:\n",
    "        nodes.append(int(n.getAttribute('id')))\n",
    "    return nodes\n",
    "\n",
    "def load_edges(path):\n",
    "    map_xml = minidom.parse(path)\n",
    "    map_links_tags = map_xml.getElementsByTagName('link')\n",
    "    for n in map_links_tags:\n",
    "        edges[int(n.getAttribute('id'))] = [\n",
    "            int(n.getAttribute('from')),\n",
    "            int(n.getAttribute('to'))\n",
    "        ]"
   ]
  },
  {
   "cell_type": "code",
   "execution_count": 112,
   "metadata": {},
   "outputs": [],
   "source": [
    "nodes = load_nodes('map_complete.xml')\n",
    "load_edges('map_complete.xml')"
   ]
  },
  {
   "cell_type": "code",
   "execution_count": 113,
   "metadata": {},
   "outputs": [],
   "source": [
    "def find_start_link(origin, destination):\n",
    "    for k, e in edges.items():\n",
    "        if (e[0] == origin):\n",
    "            return k\n",
    "    return -1"
   ]
  },
  {
   "cell_type": "code",
   "execution_count": 114,
   "metadata": {},
   "outputs": [],
   "source": [
    "for trip in trips.iter('trip'):\n",
    "    origin = int(trip.attrib['origin'])\n",
    "    destination = int(trip.attrib['destination'])\n",
    "    if (origin in nodes and destination in nodes):\n",
    "        selected_trips.append(trip)"
   ]
  },
  {
   "cell_type": "code",
   "execution_count": 163,
   "metadata": {},
   "outputs": [],
   "source": [
    "df = pd.DataFrame(columns=[\"name\", \"origin\", \"destination\", \"link_origin\", \"count\", \"start\", \"mode\", \"uuid\"])"
   ]
  },
  {
   "cell_type": "code",
   "execution_count": 164,
   "metadata": {},
   "outputs": [],
   "source": [
    "counter = 0\n",
    "for s in selected_trips:\n",
    "    origin = int(s.attrib['origin'])\n",
    "    destination = int(s.attrib['destination'])\n",
    "    link_origin = int(find_start_link(origin, destination))\n",
    "    \n",
    "    if (link_origin == -1):\n",
    "        continue\n",
    "        \n",
    "    if ((origin in forbidden_nodes) or (destination in forbidden_nodes)):\n",
    "        continue\n",
    "    skip_nodes = [303561733, 2006965204, 2465920967, 2397982708, 2397319383]\n",
    "    if ((origin in skip_nodes) or (destination in skip_nodes)):\n",
    "        continue\n",
    "    \n",
    "    name = s.attrib['name']\n",
    "\n",
    "    old_count = int(s.attrib['count'])\n",
    "    start = int(s.attrib['start'])\n",
    "    mode = s.attrib['mode']\n",
    "    uuid_trip = 'a'\n",
    "    df.loc[counter] = [name, origin, destination, link_origin, old_count, start, mode, uuid_trip]\n",
    "    counter += 1"
   ]
  },
  {
   "cell_type": "code",
   "execution_count": 165,
   "metadata": {},
   "outputs": [],
   "source": [
    "df = df[(df.start >= 28800) & (df.start <= 30000)]"
   ]
  },
  {
   "cell_type": "code",
   "execution_count": 166,
   "metadata": {},
   "outputs": [],
   "source": [
    "df.start = df.start - 28800"
   ]
  },
  {
   "cell_type": "code",
   "execution_count": 167,
   "metadata": {},
   "outputs": [],
   "source": [
    "final_df = pd.DataFrame(columns=[\"name\", \"origin\", \"destination\", \"link_origin\", \"count\", \"start\", \"mode\", \"uuid\"])    "
   ]
  },
  {
   "cell_type": "code",
   "execution_count": 168,
   "metadata": {},
   "outputs": [
    {
     "data": {
      "text/html": [
       "<div>\n",
       "<style>\n",
       "    .dataframe thead tr:only-child th {\n",
       "        text-align: right;\n",
       "    }\n",
       "\n",
       "    .dataframe thead th {\n",
       "        text-align: left;\n",
       "    }\n",
       "\n",
       "    .dataframe tbody tr th {\n",
       "        vertical-align: top;\n",
       "    }\n",
       "</style>\n",
       "<table border=\"1\" class=\"dataframe\">\n",
       "  <thead>\n",
       "    <tr style=\"text-align: right;\">\n",
       "      <th></th>\n",
       "      <th>name</th>\n",
       "      <th>origin</th>\n",
       "      <th>destination</th>\n",
       "      <th>link_origin</th>\n",
       "      <th>count</th>\n",
       "      <th>start</th>\n",
       "      <th>mode</th>\n",
       "      <th>uuid</th>\n",
       "    </tr>\n",
       "  </thead>\n",
       "  <tbody>\n",
       "    <tr>\n",
       "      <th>count</th>\n",
       "      <td>41</td>\n",
       "      <td>41</td>\n",
       "      <td>41</td>\n",
       "      <td>41</td>\n",
       "      <td>41</td>\n",
       "      <td>41</td>\n",
       "      <td>41</td>\n",
       "      <td>41</td>\n",
       "    </tr>\n",
       "    <tr>\n",
       "      <th>unique</th>\n",
       "      <td>41</td>\n",
       "      <td>38</td>\n",
       "      <td>38</td>\n",
       "      <td>38</td>\n",
       "      <td>26</td>\n",
       "      <td>4</td>\n",
       "      <td>1</td>\n",
       "      <td>1</td>\n",
       "    </tr>\n",
       "    <tr>\n",
       "      <th>top</th>\n",
       "      <td>2098</td>\n",
       "      <td>303987727</td>\n",
       "      <td>444959652</td>\n",
       "      <td>2150</td>\n",
       "      <td>23</td>\n",
       "      <td>1</td>\n",
       "      <td>car</td>\n",
       "      <td>a</td>\n",
       "    </tr>\n",
       "    <tr>\n",
       "      <th>freq</th>\n",
       "      <td>1</td>\n",
       "      <td>4</td>\n",
       "      <td>2</td>\n",
       "      <td>4</td>\n",
       "      <td>8</td>\n",
       "      <td>34</td>\n",
       "      <td>41</td>\n",
       "      <td>41</td>\n",
       "    </tr>\n",
       "  </tbody>\n",
       "</table>\n",
       "</div>"
      ],
      "text/plain": [
       "        name     origin  destination  link_origin  count  start mode uuid\n",
       "count     41         41           41           41     41     41   41   41\n",
       "unique    41         38           38           38     26      4    1    1\n",
       "top     2098  303987727    444959652         2150     23      1  car    a\n",
       "freq       1          4            2            4      8     34   41   41"
      ]
     },
     "execution_count": 168,
     "metadata": {},
     "output_type": "execute_result"
    }
   ],
   "source": [
    "df.describe()"
   ]
  },
  {
   "cell_type": "code",
   "execution_count": 169,
   "metadata": {},
   "outputs": [],
   "source": [
    "counter = 0\n",
    "for row in df.iterrows():\n",
    "    access = row[1]\n",
    "    repeat = access['count']\n",
    "    for v in range(1, repeat):    \n",
    "        final_df.loc[counter] = [\n",
    "            counter,\n",
    "            access['origin'],\n",
    "            access['destination'],\n",
    "            access['link_origin'],\n",
    "            1,\n",
    "            access['start'],\n",
    "            access['mode'],\n",
    "            uuid.uuid4()\n",
    "        ]\n",
    "        counter += 1"
   ]
  },
  {
   "cell_type": "code",
   "execution_count": 170,
   "metadata": {},
   "outputs": [],
   "source": [
    "final_df.to_csv('trips-with-uuid.csv', header=False, sep=';', index=False)"
   ]
  },
  {
   "cell_type": "code",
   "execution_count": 171,
   "metadata": {},
   "outputs": [
    {
     "data": {
      "text/plain": [
       "array([444959652, 1595406109, 60685603, 661212077, 1389167308, 1828205658,\n",
       "       1832037287, 4483150089, 303863452, 3316883634, 302805873,\n",
       "       302805844, 2050908603, 28991286, 60641089, 303561713, 2578181725,\n",
       "       1832037297, 1117834830, 4484837428, 477363512, 1990934598,\n",
       "       300058931, 1363061409, 302805865, 303562326, 4167937333,\n",
       "       2380750803, 165459105, 1942703874, 598665342, 444959901,\n",
       "       1389167404, 4479246583, 142811324, 3316840685, 303860188, 582142],\n",
       "      dtype=object)"
      ]
     },
     "execution_count": 171,
     "metadata": {},
     "output_type": "execute_result"
    }
   ],
   "source": [
    "final_df.destination.unique()"
   ]
  }
 ],
 "metadata": {
  "kernelspec": {
   "display_name": "Python 3",
   "language": "python",
   "name": "python3"
  },
  "language_info": {
   "codemirror_mode": {
    "name": "ipython",
    "version": 3
   },
   "file_extension": ".py",
   "mimetype": "text/x-python",
   "name": "python",
   "nbconvert_exporter": "python",
   "pygments_lexer": "ipython3",
   "version": "3.6.5"
  }
 },
 "nbformat": 4,
 "nbformat_minor": 2
}
